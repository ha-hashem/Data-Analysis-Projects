{
 "cells": [
  {
   "cell_type": "markdown",
   "metadata": {},
   "source": [
    "# Popular Data Science Questions"
   ]
  },
  {
   "cell_type": "markdown",
   "metadata": {
    "collapsed": true
   },
   "source": [
    "We're tasked with figuring out what is best content to write about within a data science related content website. \n",
    "\n",
    "For this, we're going to use stack exchange.\n",
    "\n",
    ">Stack Exchange employs a reputation award system for its questions and answers. Each post — each question/answer — is a post that is subject to upvotes and downvotes. This ensures that good posts are easily identifiable.\n",
    "\n",
    ">https://stackexchange.com/tour\n",
    "\n",
    ">https://stackexchange.com/sites?view=list#percentanswered\n",
    "\n",
    ">by: Dataquest.io\n",
    "\n",
    "We're going to use DSSE using the below link\n",
    "https://datascience.stackexchange.com/\n",
    "\n",
    "We can notice that SE uses 'tags' to categorize its content.\n",
    "\n",
    ">Stack Exchange provides a public data base for each of its websites. Here's a link to query and explore Data Science Stack Exchange's database. \n",
    "\n",
    ">https://data.stackexchange.com/datascience/query/new\n",
    "\n",
    ">Note that SEDE uses a different dialect (Transact-SQL — Microsoft's SQL) than SQLite\n",
    "differences issues helpful resouce: \n",
    "\n",
    ">https://www.mssqltips.com/sqlservertip/4777/comparing-some-differences-of-sql-server-to-sqlite/\n",
    "\n",
    ">by: Dataquest.io\n",
    "\n",
    "We can use the amazing database query system provided by SE"
   ]
  },
  {
   "cell_type": "markdown",
   "metadata": {
    "collapsed": true
   },
   "source": [
    "From the database tables, we can gain a lot of information for our requirement from the 'tags' table and the 'posts' table."
   ]
  },
  {
   "cell_type": "markdown",
   "metadata": {},
   "source": [
    ">1. Id: An identification number for the post.\n",
    "2. PostTypeId: An identification number for the type of post.\n",
    "3. CreationDate: The date and time of creation of the post.\n",
    "4. Score: The post's score.\n",
    "5. ViewCount: How many times the post was viewed.\n",
    "6. Tags: What tags were used.\n",
    "7. AnswerCount: How many answers the question got (only applicable to question posts).\n",
    "8. FavoriteCount: How many times the question was favored (only applicable to question posts).\n",
    "\n",
    ">by: Dataquest.io"
   ]
  },
  {
   "cell_type": "markdown",
   "metadata": {},
   "source": [
    "We can confirm the type of posts by running this query:\n",
    "```\n",
    "SELECT PostTypeId, COUNT(*) as NrOfPosts\n",
    "FROM posts\n",
    "GROUP BY PostTypeId;\n",
    "```\n",
    ">Since we're only interested in recent posts, we'll limit our analysis to the posts of 2019. (At the time of writing it is early 2020). \n",
    "\n",
    "> by: Dataquest.io\n",
    "\n",
    "To extract the columns listed above:\n",
    "```\n",
    "SELECT Id, PostTypeId, CreationDate, Score, ViewCount, Tags, AnswerCount, FavoriteCount FROM Posts\n",
    "where CreationDate >= '2019-01-01 00:00:00' AND CreationDate <= '2019-12-31 12:59:59'\n",
    "ORDER BY CreationDate;\n",
    "```"
   ]
  },
  {
   "cell_type": "code",
   "execution_count": 1,
   "metadata": {
    "collapsed": true
   },
   "outputs": [],
   "source": [
    "#results\n",
    "file = '2019_questions.csv'"
   ]
  },
  {
   "cell_type": "code",
   "execution_count": 2,
   "metadata": {
    "collapsed": false
   },
   "outputs": [
    {
     "name": "stdout",
     "output_type": "stream",
     "text": [
      "Id,CreationDate,Score,ViewCount,Tags,AnswerCount,FavoriteCount\r",
      "\r\n",
      "\"44419\",\"2019-01-23 09:21:13\",\"1\",\"21\",\"<machine-learning><data-mining>\",\"0\",\"\"\r",
      "\r\n",
      "\"44420\",\"2019-01-23 09:34:01\",\"0\",\"25\",\"<machine-learning><regression><linear-regression><regularization>\",\"0\",\"\"\r",
      "\r\n",
      "\"44423\",\"2019-01-23 09:58:41\",\"2\",\"1651\",\"<python><time-series><forecast><forecasting>\",\"0\",\"\"\r",
      "\r\n",
      "\"44427\",\"2019-01-23 10:57:09\",\"0\",\"55\",\"<machine-learning><scikit-learn><pca>\",\"1\",\"\"\r",
      "\r\n",
      "\"44428\",\"2019-01-23 11:02:15\",\"0\",\"19\",\"<dataset><bigdata><data><speech-to-text>\",\"0\",\"\"\r",
      "\r\n",
      "\"44430\",\"2019-01-23 11:13:32\",\"0\",\"283\",\"<fuzzy-logic>\",\"1\",\"\"\r",
      "\r\n",
      "\"44432\",\"2019-01-23 11:17:46\",\"1\",\"214\",\"<time-series><anomaly-detection><online-learning>\",\"0\",\"1\"\r",
      "\r\n",
      "\"44436\",\"2019-01-23 12:49:39\",\"0\",\"9\",\"<matrix-factorisation>\",\"0\",\"\"\r",
      "\r\n",
      "\"44437\",\"2019-01-23 13:04:11\",\"0\",\"7\",\"<correlation><naive-bayes-classifier>\",\"0\",\"\"\r",
      "\r\n"
     ]
    }
   ],
   "source": [
    "!head $file"
   ]
  },
  {
   "cell_type": "markdown",
   "metadata": {},
   "source": [
    "A simple exploration shows that `FavoriteCount` contains missing values."
   ]
  },
  {
   "cell_type": "code",
   "execution_count": 3,
   "metadata": {
    "collapsed": false
   },
   "outputs": [],
   "source": [
    "import pandas as pd"
   ]
  },
  {
   "cell_type": "code",
   "execution_count": 4,
   "metadata": {
    "collapsed": false
   },
   "outputs": [
    {
     "name": "stdout",
     "output_type": "stream",
     "text": [
      "<class 'pandas.core.frame.DataFrame'>\n",
      "RangeIndex: 8839 entries, 0 to 8838\n",
      "Data columns (total 7 columns):\n",
      "Id               8839 non-null int64\n",
      "CreationDate     8839 non-null datetime64[ns]\n",
      "Score            8839 non-null int64\n",
      "ViewCount        8839 non-null int64\n",
      "Tags             8839 non-null object\n",
      "AnswerCount      8839 non-null int64\n",
      "FavoriteCount    1407 non-null float64\n",
      "dtypes: datetime64[ns](1), float64(1), int64(4), object(1)\n",
      "memory usage: 483.5+ KB\n"
     ]
    }
   ],
   "source": [
    "df = pd.read_csv(file, parse_dates=['CreationDate'])\n",
    "df.info()"
   ]
  },
  {
   "cell_type": "code",
   "execution_count": 5,
   "metadata": {
    "collapsed": false
   },
   "outputs": [
    {
     "data": {
      "text/plain": [
       "(8839, 7)"
      ]
     },
     "execution_count": 5,
     "metadata": {},
     "output_type": "execute_result"
    }
   ],
   "source": [
    "df.shape"
   ]
  },
  {
   "cell_type": "code",
   "execution_count": 6,
   "metadata": {
    "collapsed": false
   },
   "outputs": [
    {
     "data": {
      "text/html": [
       "<div>\n",
       "<style scoped>\n",
       "    .dataframe tbody tr th:only-of-type {\n",
       "        vertical-align: middle;\n",
       "    }\n",
       "\n",
       "    .dataframe tbody tr th {\n",
       "        vertical-align: top;\n",
       "    }\n",
       "\n",
       "    .dataframe thead th {\n",
       "        text-align: right;\n",
       "    }\n",
       "</style>\n",
       "<table border=\"1\" class=\"dataframe\">\n",
       "  <thead>\n",
       "    <tr style=\"text-align: right;\">\n",
       "      <th></th>\n",
       "      <th>Id</th>\n",
       "      <th>CreationDate</th>\n",
       "      <th>Score</th>\n",
       "      <th>ViewCount</th>\n",
       "      <th>Tags</th>\n",
       "      <th>AnswerCount</th>\n",
       "      <th>FavoriteCount</th>\n",
       "    </tr>\n",
       "  </thead>\n",
       "  <tbody>\n",
       "    <tr>\n",
       "      <th>0</th>\n",
       "      <td>44419</td>\n",
       "      <td>2019-01-23 09:21:13</td>\n",
       "      <td>1</td>\n",
       "      <td>21</td>\n",
       "      <td>&lt;machine-learning&gt;&lt;data-mining&gt;</td>\n",
       "      <td>0</td>\n",
       "      <td>NaN</td>\n",
       "    </tr>\n",
       "    <tr>\n",
       "      <th>1</th>\n",
       "      <td>44420</td>\n",
       "      <td>2019-01-23 09:34:01</td>\n",
       "      <td>0</td>\n",
       "      <td>25</td>\n",
       "      <td>&lt;machine-learning&gt;&lt;regression&gt;&lt;linear-regressi...</td>\n",
       "      <td>0</td>\n",
       "      <td>NaN</td>\n",
       "    </tr>\n",
       "    <tr>\n",
       "      <th>2</th>\n",
       "      <td>44423</td>\n",
       "      <td>2019-01-23 09:58:41</td>\n",
       "      <td>2</td>\n",
       "      <td>1651</td>\n",
       "      <td>&lt;python&gt;&lt;time-series&gt;&lt;forecast&gt;&lt;forecasting&gt;</td>\n",
       "      <td>0</td>\n",
       "      <td>NaN</td>\n",
       "    </tr>\n",
       "    <tr>\n",
       "      <th>3</th>\n",
       "      <td>44427</td>\n",
       "      <td>2019-01-23 10:57:09</td>\n",
       "      <td>0</td>\n",
       "      <td>55</td>\n",
       "      <td>&lt;machine-learning&gt;&lt;scikit-learn&gt;&lt;pca&gt;</td>\n",
       "      <td>1</td>\n",
       "      <td>NaN</td>\n",
       "    </tr>\n",
       "    <tr>\n",
       "      <th>4</th>\n",
       "      <td>44428</td>\n",
       "      <td>2019-01-23 11:02:15</td>\n",
       "      <td>0</td>\n",
       "      <td>19</td>\n",
       "      <td>&lt;dataset&gt;&lt;bigdata&gt;&lt;data&gt;&lt;speech-to-text&gt;</td>\n",
       "      <td>0</td>\n",
       "      <td>NaN</td>\n",
       "    </tr>\n",
       "  </tbody>\n",
       "</table>\n",
       "</div>"
      ],
      "text/plain": [
       "      Id        CreationDate  Score  ViewCount  \\\n",
       "0  44419 2019-01-23 09:21:13      1         21   \n",
       "1  44420 2019-01-23 09:34:01      0         25   \n",
       "2  44423 2019-01-23 09:58:41      2       1651   \n",
       "3  44427 2019-01-23 10:57:09      0         55   \n",
       "4  44428 2019-01-23 11:02:15      0         19   \n",
       "\n",
       "                                                Tags  AnswerCount  \\\n",
       "0                    <machine-learning><data-mining>            0   \n",
       "1  <machine-learning><regression><linear-regressi...            0   \n",
       "2       <python><time-series><forecast><forecasting>            0   \n",
       "3              <machine-learning><scikit-learn><pca>            1   \n",
       "4           <dataset><bigdata><data><speech-to-text>            0   \n",
       "\n",
       "   FavoriteCount  \n",
       "0            NaN  \n",
       "1            NaN  \n",
       "2            NaN  \n",
       "3            NaN  \n",
       "4            NaN  "
      ]
     },
     "execution_count": 6,
     "metadata": {},
     "output_type": "execute_result"
    }
   ],
   "source": [
    "df.head()"
   ]
  },
  {
   "cell_type": "markdown",
   "metadata": {},
   "source": [
    "# Cleaning\n",
    "We'll clean the `FavoriteCount` and explore more to do further cleaning."
   ]
  },
  {
   "cell_type": "code",
   "execution_count": 7,
   "metadata": {
    "collapsed": false
   },
   "outputs": [
    {
     "data": {
      "text/plain": [
       "NaN      7432\n",
       " 1.0      953\n",
       " 2.0      205\n",
       " 0.0      175\n",
       " 3.0       43\n",
       " 4.0       12\n",
       " 5.0        8\n",
       " 6.0        4\n",
       " 7.0        4\n",
       " 11.0       1\n",
       " 8.0        1\n",
       " 16.0       1\n",
       "Name: FavoriteCount, dtype: int64"
      ]
     },
     "execution_count": 7,
     "metadata": {},
     "output_type": "execute_result"
    }
   ],
   "source": [
    "df['FavoriteCount'].value_counts(dropna=False)"
   ]
  },
  {
   "cell_type": "markdown",
   "metadata": {},
   "source": [
    "Exploring other missing values"
   ]
  },
  {
   "cell_type": "code",
   "execution_count": 8,
   "metadata": {
    "collapsed": false
   },
   "outputs": [
    {
     "data": {
      "text/plain": [
       "Id                  0\n",
       "CreationDate        0\n",
       "Score               0\n",
       "ViewCount           0\n",
       "Tags                0\n",
       "AnswerCount         0\n",
       "FavoriteCount    7432\n",
       "dtype: int64"
      ]
     },
     "execution_count": 8,
     "metadata": {},
     "output_type": "execute_result"
    }
   ],
   "source": [
    "df.isnull().sum()"
   ]
  },
  {
   "cell_type": "markdown",
   "metadata": {},
   "source": [
    "Here, it seems that only the `FavoriteCount` column is having missing values."
   ]
  },
  {
   "cell_type": "code",
   "execution_count": 9,
   "metadata": {
    "collapsed": false
   },
   "outputs": [
    {
     "data": {
      "text/plain": [
       "84.08190971829393"
      ]
     },
     "execution_count": 9,
     "metadata": {},
     "output_type": "execute_result"
    }
   ],
   "source": [
    "df['FavoriteCount'].isnull().sum() / df.shape[0] * 100"
   ]
  },
  {
   "cell_type": "markdown",
   "metadata": {},
   "source": [
    "The `FavoriteCount` column's missing data is arround 84% of the total data count."
   ]
  },
  {
   "cell_type": "code",
   "execution_count": 10,
   "metadata": {
    "collapsed": false
   },
   "outputs": [],
   "source": [
    "df.fillna(0, inplace=True)\n",
    "df['FavoriteCount'] = df['FavoriteCount'].astype(int)"
   ]
  },
  {
   "cell_type": "markdown",
   "metadata": {},
   "source": [
    "Handling tag columns."
   ]
  },
  {
   "cell_type": "code",
   "execution_count": 11,
   "metadata": {
    "collapsed": false
   },
   "outputs": [],
   "source": [
    "df['Tags'] = df['Tags'].str.replace('><',',').str.replace('<','').str.replace('>','')"
   ]
  },
  {
   "cell_type": "code",
   "execution_count": 12,
   "metadata": {
    "collapsed": false
   },
   "outputs": [],
   "source": [
    "df['Tags'] = df['Tags'].str.split(',')"
   ]
  },
  {
   "cell_type": "markdown",
   "metadata": {},
   "source": [
    "# Analysis"
   ]
  },
  {
   "cell_type": "code",
   "execution_count": 13,
   "metadata": {
    "collapsed": false
   },
   "outputs": [],
   "source": [
    "# How many times each tag was used\n",
    "tag_counts = {}\n",
    "for i in df['Tags']:\n",
    "    for tag in i:\n",
    "        if tag in tag_counts:\n",
    "            tag_counts[tag] += 1\n",
    "        else:\n",
    "            tag_counts[tag] = 1\n",
    "\n",
    "tag_counts_df = pd.DataFrame.from_dict(tag_counts, orient='index')"
   ]
  },
  {
   "cell_type": "code",
   "execution_count": 14,
   "metadata": {
    "collapsed": false
   },
   "outputs": [
    {
     "data": {
      "text/plain": [
       "machine-learning    2693\n",
       "python              1814\n",
       "deep-learning       1220\n",
       "neural-network      1055\n",
       "keras                935\n",
       "classification       685\n",
       "tensorflow           584\n",
       "scikit-learn         540\n",
       "nlp                  493\n",
       "cnn                  489\n",
       "Name: 0, dtype: int64"
      ]
     },
     "execution_count": 14,
     "metadata": {},
     "output_type": "execute_result"
    }
   ],
   "source": [
    "tag_counts_df[0].sort_values(ascending=False).head(10)"
   ]
  },
  {
   "cell_type": "code",
   "execution_count": 15,
   "metadata": {
    "collapsed": false
   },
   "outputs": [],
   "source": [
    "tag_view_counts = {}\n",
    "\n",
    "for index, row in df.iterrows():\n",
    "    for tag in row['Tags']:\n",
    "        if tag in tag_view_counts:\n",
    "            tag_view_counts[tag] += row['ViewCount']\n",
    "        else:\n",
    "            tag_view_counts[tag] = row['ViewCount']\n",
    "\n",
    "tag_view_counts_df = pd.DataFrame.from_dict(tag_view_counts, orient='index')"
   ]
  },
  {
   "cell_type": "code",
   "execution_count": 16,
   "metadata": {
    "collapsed": false
   },
   "outputs": [
    {
     "data": {
      "text/plain": [
       "python              537585\n",
       "machine-learning    388499\n",
       "keras               268608\n",
       "deep-learning       233628\n",
       "pandas              201787\n",
       "neural-network      185367\n",
       "scikit-learn        128110\n",
       "tensorflow          121369\n",
       "classification      104457\n",
       "dataframe            89352\n",
       "Name: 0, dtype: int64"
      ]
     },
     "execution_count": 16,
     "metadata": {},
     "output_type": "execute_result"
    }
   ],
   "source": [
    "tag_view_counts_df[0].sort_values(ascending=False).head(10)"
   ]
  },
  {
   "cell_type": "code",
   "execution_count": 17,
   "metadata": {
    "collapsed": false
   },
   "outputs": [],
   "source": [
    "import matplotlib.pyplot as plt\n",
    "import seaborn as sns\n",
    "%matplotlib inline"
   ]
  },
  {
   "cell_type": "markdown",
   "metadata": {},
   "source": [
    "Tags Counts:"
   ]
  },
  {
   "cell_type": "code",
   "execution_count": 18,
   "metadata": {
    "collapsed": false
   },
   "outputs": [
    {
     "data": {
      "text/plain": [
       "<matplotlib.axes._subplots.AxesSubplot at 0x7f7e24d34780>"
      ]
     },
     "execution_count": 18,
     "metadata": {},
     "output_type": "execute_result"
    },
    {
     "data": {
      "image/png": "[encoded data removed]",
      "text/plain": [
       "<matplotlib.figure.Figure at 0x7f7e24d26da0>"
      ]
     },
     "metadata": {},
     "output_type": "display_data"
    }
   ],
   "source": [
    "tag_counts_df[0].sort_values(ascending=False).head(10).plot(kind='pie')"
   ]
  },
  {
   "cell_type": "markdown",
   "metadata": {},
   "source": [
    "Tags View Counts:"
   ]
  },
  {
   "cell_type": "code",
   "execution_count": 19,
   "metadata": {
    "collapsed": false
   },
   "outputs": [
    {
     "data": {
      "text/plain": [
       "<matplotlib.axes._subplots.AxesSubplot at 0x7f7e24d5af28>"
      ]
     },
     "execution_count": 19,
     "metadata": {},
     "output_type": "execute_result"
    },
    {
     "data": {
      "image/png": "[encoded data removed]",
      "text/plain": [
       "<matplotlib.figure.Figure at 0x7f7e22cf38d0>"
      ]
     },
     "metadata": {},
     "output_type": "display_data"
    }
   ],
   "source": [
    "tag_view_counts_df[0].sort_values(ascending=False).head(10).plot(kind='pie')"
   ]
  },
  {
   "cell_type": "markdown",
   "metadata": {
    "collapsed": true
   },
   "source": [
    "## Relations between tag pairs"
   ]
  },
  {
   "cell_type": "code",
   "execution_count": 20,
   "metadata": {
    "collapsed": false
   },
   "outputs": [],
   "source": [
    "tags_list = list(tag_counts.keys())"
   ]
  },
  {
   "cell_type": "code",
   "execution_count": 21,
   "metadata": {
    "collapsed": true
   },
   "outputs": [],
   "source": [
    "relations = pd.DataFrame(index=tags_list, columns=tags_list)\n",
    "relations.fillna(0, inplace=True)"
   ]
  },
  {
   "cell_type": "code",
   "execution_count": 22,
   "metadata": {
    "collapsed": false
   },
   "outputs": [],
   "source": [
    "for tags in df['Tags']:\n",
    "    relations.loc[tags, tags] += 1"
   ]
  },
  {
   "cell_type": "code",
   "execution_count": 30,
   "metadata": {
    "collapsed": false
   },
   "outputs": [],
   "source": [
    "top_used = tag_counts_df.sort_values(0, ascending=False).head(20)"
   ]
  },
  {
   "cell_type": "code",
   "execution_count": 33,
   "metadata": {
    "collapsed": false
   },
   "outputs": [],
   "source": [
    "top_viewed = tag_view_counts_df.sort_values(0, ascending=False).head(20)"
   ]
  },
  {
   "cell_type": "code",
   "execution_count": 43,
   "metadata": {
    "collapsed": false
   },
   "outputs": [
    {
     "data": {
      "text/html": [
       "<style  type=\"text/css\" >\n",
       "    #T_2741b982_b21b_11eb_a2ad_0242ac110003row0_col0 {\n",
       "            color:  blue;\n",
       "        }    #T_2741b982_b21b_11eb_a2ad_0242ac110003row1_col1 {\n",
       "            color:  blue;\n",
       "        }    #T_2741b982_b21b_11eb_a2ad_0242ac110003row2_col2 {\n",
       "            color:  blue;\n",
       "        }    #T_2741b982_b21b_11eb_a2ad_0242ac110003row3_col3 {\n",
       "            color:  blue;\n",
       "        }    #T_2741b982_b21b_11eb_a2ad_0242ac110003row4_col4 {\n",
       "            color:  blue;\n",
       "        }    #T_2741b982_b21b_11eb_a2ad_0242ac110003row5_col5 {\n",
       "            color:  blue;\n",
       "        }    #T_2741b982_b21b_11eb_a2ad_0242ac110003row6_col6 {\n",
       "            color:  blue;\n",
       "        }    #T_2741b982_b21b_11eb_a2ad_0242ac110003row7_col7 {\n",
       "            color:  blue;\n",
       "        }    #T_2741b982_b21b_11eb_a2ad_0242ac110003row8_col8 {\n",
       "            color:  blue;\n",
       "        }    #T_2741b982_b21b_11eb_a2ad_0242ac110003row9_col9 {\n",
       "            color:  blue;\n",
       "        }    #T_2741b982_b21b_11eb_a2ad_0242ac110003row10_col10 {\n",
       "            color:  blue;\n",
       "        }    #T_2741b982_b21b_11eb_a2ad_0242ac110003row11_col11 {\n",
       "            color:  blue;\n",
       "        }    #T_2741b982_b21b_11eb_a2ad_0242ac110003row12_col12 {\n",
       "            color:  blue;\n",
       "        }    #T_2741b982_b21b_11eb_a2ad_0242ac110003row13_col13 {\n",
       "            color:  blue;\n",
       "        }    #T_2741b982_b21b_11eb_a2ad_0242ac110003row14_col14 {\n",
       "            color:  blue;\n",
       "        }    #T_2741b982_b21b_11eb_a2ad_0242ac110003row15_col15 {\n",
       "            color:  blue;\n",
       "        }    #T_2741b982_b21b_11eb_a2ad_0242ac110003row16_col16 {\n",
       "            color:  blue;\n",
       "        }    #T_2741b982_b21b_11eb_a2ad_0242ac110003row17_col17 {\n",
       "            color:  blue;\n",
       "        }    #T_2741b982_b21b_11eb_a2ad_0242ac110003row18_col18 {\n",
       "            color:  blue;\n",
       "        }    #T_2741b982_b21b_11eb_a2ad_0242ac110003row19_col19 {\n",
       "            color:  blue;\n",
       "        }</style>  \n",
       "<table id=\"T_2741b982_b21b_11eb_a2ad_0242ac110003\" > \n",
       "<thead>    <tr> \n",
       "        <th class=\"blank level0\" ></th> \n",
       "        <th class=\"col_heading level0 col0\" >machine-learning</th> \n",
       "        <th class=\"col_heading level0 col1\" >python</th> \n",
       "        <th class=\"col_heading level0 col2\" >deep-learning</th> \n",
       "        <th class=\"col_heading level0 col3\" >neural-network</th> \n",
       "        <th class=\"col_heading level0 col4\" >keras</th> \n",
       "        <th class=\"col_heading level0 col5\" >classification</th> \n",
       "        <th class=\"col_heading level0 col6\" >tensorflow</th> \n",
       "        <th class=\"col_heading level0 col7\" >scikit-learn</th> \n",
       "        <th class=\"col_heading level0 col8\" >nlp</th> \n",
       "        <th class=\"col_heading level0 col9\" >cnn</th> \n",
       "        <th class=\"col_heading level0 col10\" >time-series</th> \n",
       "        <th class=\"col_heading level0 col11\" >lstm</th> \n",
       "        <th class=\"col_heading level0 col12\" >pandas</th> \n",
       "        <th class=\"col_heading level0 col13\" >regression</th> \n",
       "        <th class=\"col_heading level0 col14\" >dataset</th> \n",
       "        <th class=\"col_heading level0 col15\" >r</th> \n",
       "        <th class=\"col_heading level0 col16\" >predictive-modeling</th> \n",
       "        <th class=\"col_heading level0 col17\" >clustering</th> \n",
       "        <th class=\"col_heading level0 col18\" >statistics</th> \n",
       "        <th class=\"col_heading level0 col19\" >machine-learning-model</th> \n",
       "    </tr></thead> \n",
       "<tbody>    <tr> \n",
       "        <th id=\"T_2741b982_b21b_11eb_a2ad_0242ac110003level0_row0\" class=\"row_heading level0 row0\" >machine-learning</th> \n",
       "        <td id=\"T_2741b982_b21b_11eb_a2ad_0242ac110003row0_col0\" class=\"data row0 col0\" >2693</td> \n",
       "        <td id=\"T_2741b982_b21b_11eb_a2ad_0242ac110003row0_col1\" class=\"data row0 col1\" >499</td> \n",
       "        <td id=\"T_2741b982_b21b_11eb_a2ad_0242ac110003row0_col2\" class=\"data row0 col2\" >429</td> \n",
       "        <td id=\"T_2741b982_b21b_11eb_a2ad_0242ac110003row0_col3\" class=\"data row0 col3\" >366</td> \n",
       "        <td id=\"T_2741b982_b21b_11eb_a2ad_0242ac110003row0_col4\" class=\"data row0 col4\" >195</td> \n",
       "        <td id=\"T_2741b982_b21b_11eb_a2ad_0242ac110003row0_col5\" class=\"data row0 col5\" >259</td> \n",
       "        <td id=\"T_2741b982_b21b_11eb_a2ad_0242ac110003row0_col6\" class=\"data row0 col6\" >106</td> \n",
       "        <td id=\"T_2741b982_b21b_11eb_a2ad_0242ac110003row0_col7\" class=\"data row0 col7\" >188</td> \n",
       "        <td id=\"T_2741b982_b21b_11eb_a2ad_0242ac110003row0_col8\" class=\"data row0 col8\" >113</td> \n",
       "        <td id=\"T_2741b982_b21b_11eb_a2ad_0242ac110003row0_col9\" class=\"data row0 col9\" >124</td> \n",
       "        <td id=\"T_2741b982_b21b_11eb_a2ad_0242ac110003row0_col10\" class=\"data row0 col10\" >131</td> \n",
       "        <td id=\"T_2741b982_b21b_11eb_a2ad_0242ac110003row0_col11\" class=\"data row0 col11\" >71</td> \n",
       "        <td id=\"T_2741b982_b21b_11eb_a2ad_0242ac110003row0_col12\" class=\"data row0 col12\" >62</td> \n",
       "        <td id=\"T_2741b982_b21b_11eb_a2ad_0242ac110003row0_col13\" class=\"data row0 col13\" >119</td> \n",
       "        <td id=\"T_2741b982_b21b_11eb_a2ad_0242ac110003row0_col14\" class=\"data row0 col14\" >99</td> \n",
       "        <td id=\"T_2741b982_b21b_11eb_a2ad_0242ac110003row0_col15\" class=\"data row0 col15\" >63</td> \n",
       "        <td id=\"T_2741b982_b21b_11eb_a2ad_0242ac110003row0_col16\" class=\"data row0 col16\" >123</td> \n",
       "        <td id=\"T_2741b982_b21b_11eb_a2ad_0242ac110003row0_col17\" class=\"data row0 col17\" >61</td> \n",
       "        <td id=\"T_2741b982_b21b_11eb_a2ad_0242ac110003row0_col18\" class=\"data row0 col18\" >89</td> \n",
       "        <td id=\"T_2741b982_b21b_11eb_a2ad_0242ac110003row0_col19\" class=\"data row0 col19\" >139</td> \n",
       "    </tr>    <tr> \n",
       "        <th id=\"T_2741b982_b21b_11eb_a2ad_0242ac110003level0_row1\" class=\"row_heading level0 row1\" >python</th> \n",
       "        <td id=\"T_2741b982_b21b_11eb_a2ad_0242ac110003row1_col0\" class=\"data row1 col0\" >499</td> \n",
       "        <td id=\"T_2741b982_b21b_11eb_a2ad_0242ac110003row1_col1\" class=\"data row1 col1\" >1814</td> \n",
       "        <td id=\"T_2741b982_b21b_11eb_a2ad_0242ac110003row1_col2\" class=\"data row1 col2\" >160</td> \n",
       "        <td id=\"T_2741b982_b21b_11eb_a2ad_0242ac110003row1_col3\" class=\"data row1 col3\" >137</td> \n",
       "        <td id=\"T_2741b982_b21b_11eb_a2ad_0242ac110003row1_col4\" class=\"data row1 col4\" >280</td> \n",
       "        <td id=\"T_2741b982_b21b_11eb_a2ad_0242ac110003row1_col5\" class=\"data row1 col5\" >98</td> \n",
       "        <td id=\"T_2741b982_b21b_11eb_a2ad_0242ac110003row1_col6\" class=\"data row1 col6\" >167</td> \n",
       "        <td id=\"T_2741b982_b21b_11eb_a2ad_0242ac110003row1_col7\" class=\"data row1 col7\" >235</td> \n",
       "        <td id=\"T_2741b982_b21b_11eb_a2ad_0242ac110003row1_col8\" class=\"data row1 col8\" >71</td> \n",
       "        <td id=\"T_2741b982_b21b_11eb_a2ad_0242ac110003row1_col9\" class=\"data row1 col9\" >62</td> \n",
       "        <td id=\"T_2741b982_b21b_11eb_a2ad_0242ac110003row1_col10\" class=\"data row1 col10\" >105</td> \n",
       "        <td id=\"T_2741b982_b21b_11eb_a2ad_0242ac110003row1_col11\" class=\"data row1 col11\" >61</td> \n",
       "        <td id=\"T_2741b982_b21b_11eb_a2ad_0242ac110003row1_col12\" class=\"data row1 col12\" >244</td> \n",
       "        <td id=\"T_2741b982_b21b_11eb_a2ad_0242ac110003row1_col13\" class=\"data row1 col13\" >59</td> \n",
       "        <td id=\"T_2741b982_b21b_11eb_a2ad_0242ac110003row1_col14\" class=\"data row1 col14\" >53</td> \n",
       "        <td id=\"T_2741b982_b21b_11eb_a2ad_0242ac110003row1_col15\" class=\"data row1 col15\" >24</td> \n",
       "        <td id=\"T_2741b982_b21b_11eb_a2ad_0242ac110003row1_col16\" class=\"data row1 col16\" >35</td> \n",
       "        <td id=\"T_2741b982_b21b_11eb_a2ad_0242ac110003row1_col17\" class=\"data row1 col17\" >45</td> \n",
       "        <td id=\"T_2741b982_b21b_11eb_a2ad_0242ac110003row1_col18\" class=\"data row1 col18\" >35</td> \n",
       "        <td id=\"T_2741b982_b21b_11eb_a2ad_0242ac110003row1_col19\" class=\"data row1 col19\" >37</td> \n",
       "    </tr>    <tr> \n",
       "        <th id=\"T_2741b982_b21b_11eb_a2ad_0242ac110003level0_row2\" class=\"row_heading level0 row2\" >deep-learning</th> \n",
       "        <td id=\"T_2741b982_b21b_11eb_a2ad_0242ac110003row2_col0\" class=\"data row2 col0\" >429</td> \n",
       "        <td id=\"T_2741b982_b21b_11eb_a2ad_0242ac110003row2_col1\" class=\"data row2 col1\" >160</td> \n",
       "        <td id=\"T_2741b982_b21b_11eb_a2ad_0242ac110003row2_col2\" class=\"data row2 col2\" >1220</td> \n",
       "        <td id=\"T_2741b982_b21b_11eb_a2ad_0242ac110003row2_col3\" class=\"data row2 col3\" >305</td> \n",
       "        <td id=\"T_2741b982_b21b_11eb_a2ad_0242ac110003row2_col4\" class=\"data row2 col4\" >247</td> \n",
       "        <td id=\"T_2741b982_b21b_11eb_a2ad_0242ac110003row2_col5\" class=\"data row2 col5\" >59</td> \n",
       "        <td id=\"T_2741b982_b21b_11eb_a2ad_0242ac110003row2_col6\" class=\"data row2 col6\" >136</td> \n",
       "        <td id=\"T_2741b982_b21b_11eb_a2ad_0242ac110003row2_col7\" class=\"data row2 col7\" >16</td> \n",
       "        <td id=\"T_2741b982_b21b_11eb_a2ad_0242ac110003row2_col8\" class=\"data row2 col8\" >72</td> \n",
       "        <td id=\"T_2741b982_b21b_11eb_a2ad_0242ac110003row2_col9\" class=\"data row2 col9\" >160</td> \n",
       "        <td id=\"T_2741b982_b21b_11eb_a2ad_0242ac110003row2_col10\" class=\"data row2 col10\" >44</td> \n",
       "        <td id=\"T_2741b982_b21b_11eb_a2ad_0242ac110003row2_col11\" class=\"data row2 col11\" >103</td> \n",
       "        <td id=\"T_2741b982_b21b_11eb_a2ad_0242ac110003row2_col12\" class=\"data row2 col12\" >1</td> \n",
       "        <td id=\"T_2741b982_b21b_11eb_a2ad_0242ac110003row2_col13\" class=\"data row2 col13\" >21</td> \n",
       "        <td id=\"T_2741b982_b21b_11eb_a2ad_0242ac110003row2_col14\" class=\"data row2 col14\" >32</td> \n",
       "        <td id=\"T_2741b982_b21b_11eb_a2ad_0242ac110003row2_col15\" class=\"data row2 col15\" >5</td> \n",
       "        <td id=\"T_2741b982_b21b_11eb_a2ad_0242ac110003row2_col16\" class=\"data row2 col16\" >32</td> \n",
       "        <td id=\"T_2741b982_b21b_11eb_a2ad_0242ac110003row2_col17\" class=\"data row2 col17\" >2</td> \n",
       "        <td id=\"T_2741b982_b21b_11eb_a2ad_0242ac110003row2_col18\" class=\"data row2 col18\" >12</td> \n",
       "        <td id=\"T_2741b982_b21b_11eb_a2ad_0242ac110003row2_col19\" class=\"data row2 col19\" >19</td> \n",
       "    </tr>    <tr> \n",
       "        <th id=\"T_2741b982_b21b_11eb_a2ad_0242ac110003level0_row3\" class=\"row_heading level0 row3\" >neural-network</th> \n",
       "        <td id=\"T_2741b982_b21b_11eb_a2ad_0242ac110003row3_col0\" class=\"data row3 col0\" >366</td> \n",
       "        <td id=\"T_2741b982_b21b_11eb_a2ad_0242ac110003row3_col1\" class=\"data row3 col1\" >137</td> \n",
       "        <td id=\"T_2741b982_b21b_11eb_a2ad_0242ac110003row3_col2\" class=\"data row3 col2\" >305</td> \n",
       "        <td id=\"T_2741b982_b21b_11eb_a2ad_0242ac110003row3_col3\" class=\"data row3 col3\" >1055</td> \n",
       "        <td id=\"T_2741b982_b21b_11eb_a2ad_0242ac110003row3_col4\" class=\"data row3 col4\" >235</td> \n",
       "        <td id=\"T_2741b982_b21b_11eb_a2ad_0242ac110003row3_col5\" class=\"data row3 col5\" >65</td> \n",
       "        <td id=\"T_2741b982_b21b_11eb_a2ad_0242ac110003row3_col6\" class=\"data row3 col6\" >108</td> \n",
       "        <td id=\"T_2741b982_b21b_11eb_a2ad_0242ac110003row3_col7\" class=\"data row3 col7\" >24</td> \n",
       "        <td id=\"T_2741b982_b21b_11eb_a2ad_0242ac110003row3_col8\" class=\"data row3 col8\" >24</td> \n",
       "        <td id=\"T_2741b982_b21b_11eb_a2ad_0242ac110003row3_col9\" class=\"data row3 col9\" >118</td> \n",
       "        <td id=\"T_2741b982_b21b_11eb_a2ad_0242ac110003row3_col10\" class=\"data row3 col10\" >33</td> \n",
       "        <td id=\"T_2741b982_b21b_11eb_a2ad_0242ac110003row3_col11\" class=\"data row3 col11\" >69</td> \n",
       "        <td id=\"T_2741b982_b21b_11eb_a2ad_0242ac110003row3_col12\" class=\"data row3 col12\" >1</td> \n",
       "        <td id=\"T_2741b982_b21b_11eb_a2ad_0242ac110003row3_col13\" class=\"data row3 col13\" >42</td> \n",
       "        <td id=\"T_2741b982_b21b_11eb_a2ad_0242ac110003row3_col14\" class=\"data row3 col14\" >20</td> \n",
       "        <td id=\"T_2741b982_b21b_11eb_a2ad_0242ac110003row3_col15\" class=\"data row3 col15\" >9</td> \n",
       "        <td id=\"T_2741b982_b21b_11eb_a2ad_0242ac110003row3_col16\" class=\"data row3 col16\" >13</td> \n",
       "        <td id=\"T_2741b982_b21b_11eb_a2ad_0242ac110003row3_col17\" class=\"data row3 col17\" >8</td> \n",
       "        <td id=\"T_2741b982_b21b_11eb_a2ad_0242ac110003row3_col18\" class=\"data row3 col18\" >11</td> \n",
       "        <td id=\"T_2741b982_b21b_11eb_a2ad_0242ac110003row3_col19\" class=\"data row3 col19\" >10</td> \n",
       "    </tr>    <tr> \n",
       "        <th id=\"T_2741b982_b21b_11eb_a2ad_0242ac110003level0_row4\" class=\"row_heading level0 row4\" >keras</th> \n",
       "        <td id=\"T_2741b982_b21b_11eb_a2ad_0242ac110003row4_col0\" class=\"data row4 col0\" >195</td> \n",
       "        <td id=\"T_2741b982_b21b_11eb_a2ad_0242ac110003row4_col1\" class=\"data row4 col1\" >280</td> \n",
       "        <td id=\"T_2741b982_b21b_11eb_a2ad_0242ac110003row4_col2\" class=\"data row4 col2\" >247</td> \n",
       "        <td id=\"T_2741b982_b21b_11eb_a2ad_0242ac110003row4_col3\" class=\"data row4 col3\" >235</td> \n",
       "        <td id=\"T_2741b982_b21b_11eb_a2ad_0242ac110003row4_col4\" class=\"data row4 col4\" >935</td> \n",
       "        <td id=\"T_2741b982_b21b_11eb_a2ad_0242ac110003row4_col5\" class=\"data row4 col5\" >58</td> \n",
       "        <td id=\"T_2741b982_b21b_11eb_a2ad_0242ac110003row4_col6\" class=\"data row4 col6\" >256</td> \n",
       "        <td id=\"T_2741b982_b21b_11eb_a2ad_0242ac110003row4_col7\" class=\"data row4 col7\" >34</td> \n",
       "        <td id=\"T_2741b982_b21b_11eb_a2ad_0242ac110003row4_col8\" class=\"data row4 col8\" >23</td> \n",
       "        <td id=\"T_2741b982_b21b_11eb_a2ad_0242ac110003row4_col9\" class=\"data row4 col9\" >116</td> \n",
       "        <td id=\"T_2741b982_b21b_11eb_a2ad_0242ac110003row4_col10\" class=\"data row4 col10\" >51</td> \n",
       "        <td id=\"T_2741b982_b21b_11eb_a2ad_0242ac110003row4_col11\" class=\"data row4 col11\" >133</td> \n",
       "        <td id=\"T_2741b982_b21b_11eb_a2ad_0242ac110003row4_col12\" class=\"data row4 col12\" >3</td> \n",
       "        <td id=\"T_2741b982_b21b_11eb_a2ad_0242ac110003row4_col13\" class=\"data row4 col13\" >31</td> \n",
       "        <td id=\"T_2741b982_b21b_11eb_a2ad_0242ac110003row4_col14\" class=\"data row4 col14\" >13</td> \n",
       "        <td id=\"T_2741b982_b21b_11eb_a2ad_0242ac110003row4_col15\" class=\"data row4 col15\" >10</td> \n",
       "        <td id=\"T_2741b982_b21b_11eb_a2ad_0242ac110003row4_col16\" class=\"data row4 col16\" >11</td> \n",
       "        <td id=\"T_2741b982_b21b_11eb_a2ad_0242ac110003row4_col17\" class=\"data row4 col17\" >0</td> \n",
       "        <td id=\"T_2741b982_b21b_11eb_a2ad_0242ac110003row4_col18\" class=\"data row4 col18\" >3</td> \n",
       "        <td id=\"T_2741b982_b21b_11eb_a2ad_0242ac110003row4_col19\" class=\"data row4 col19\" >17</td> \n",
       "    </tr>    <tr> \n",
       "        <th id=\"T_2741b982_b21b_11eb_a2ad_0242ac110003level0_row5\" class=\"row_heading level0 row5\" >classification</th> \n",
       "        <td id=\"T_2741b982_b21b_11eb_a2ad_0242ac110003row5_col0\" class=\"data row5 col0\" >259</td> \n",
       "        <td id=\"T_2741b982_b21b_11eb_a2ad_0242ac110003row5_col1\" class=\"data row5 col1\" >98</td> \n",
       "        <td id=\"T_2741b982_b21b_11eb_a2ad_0242ac110003row5_col2\" class=\"data row5 col2\" >59</td> \n",
       "        <td id=\"T_2741b982_b21b_11eb_a2ad_0242ac110003row5_col3\" class=\"data row5 col3\" >65</td> \n",
       "        <td id=\"T_2741b982_b21b_11eb_a2ad_0242ac110003row5_col4\" class=\"data row5 col4\" >58</td> \n",
       "        <td id=\"T_2741b982_b21b_11eb_a2ad_0242ac110003row5_col5\" class=\"data row5 col5\" >685</td> \n",
       "        <td id=\"T_2741b982_b21b_11eb_a2ad_0242ac110003row5_col6\" class=\"data row5 col6\" >20</td> \n",
       "        <td id=\"T_2741b982_b21b_11eb_a2ad_0242ac110003row5_col7\" class=\"data row5 col7\" >47</td> \n",
       "        <td id=\"T_2741b982_b21b_11eb_a2ad_0242ac110003row5_col8\" class=\"data row5 col8\" >35</td> \n",
       "        <td id=\"T_2741b982_b21b_11eb_a2ad_0242ac110003row5_col9\" class=\"data row5 col9\" >20</td> \n",
       "        <td id=\"T_2741b982_b21b_11eb_a2ad_0242ac110003row5_col10\" class=\"data row5 col10\" >25</td> \n",
       "        <td id=\"T_2741b982_b21b_11eb_a2ad_0242ac110003row5_col11\" class=\"data row5 col11\" >20</td> \n",
       "        <td id=\"T_2741b982_b21b_11eb_a2ad_0242ac110003row5_col12\" class=\"data row5 col12\" >3</td> \n",
       "        <td id=\"T_2741b982_b21b_11eb_a2ad_0242ac110003row5_col13\" class=\"data row5 col13\" >34</td> \n",
       "        <td id=\"T_2741b982_b21b_11eb_a2ad_0242ac110003row5_col14\" class=\"data row5 col14\" >28</td> \n",
       "        <td id=\"T_2741b982_b21b_11eb_a2ad_0242ac110003row5_col15\" class=\"data row5 col15\" >10</td> \n",
       "        <td id=\"T_2741b982_b21b_11eb_a2ad_0242ac110003row5_col16\" class=\"data row5 col16\" >27</td> \n",
       "        <td id=\"T_2741b982_b21b_11eb_a2ad_0242ac110003row5_col17\" class=\"data row5 col17\" >12</td> \n",
       "        <td id=\"T_2741b982_b21b_11eb_a2ad_0242ac110003row5_col18\" class=\"data row5 col18\" >19</td> \n",
       "        <td id=\"T_2741b982_b21b_11eb_a2ad_0242ac110003row5_col19\" class=\"data row5 col19\" >21</td> \n",
       "    </tr>    <tr> \n",
       "        <th id=\"T_2741b982_b21b_11eb_a2ad_0242ac110003level0_row6\" class=\"row_heading level0 row6\" >tensorflow</th> \n",
       "        <td id=\"T_2741b982_b21b_11eb_a2ad_0242ac110003row6_col0\" class=\"data row6 col0\" >106</td> \n",
       "        <td id=\"T_2741b982_b21b_11eb_a2ad_0242ac110003row6_col1\" class=\"data row6 col1\" >167</td> \n",
       "        <td id=\"T_2741b982_b21b_11eb_a2ad_0242ac110003row6_col2\" class=\"data row6 col2\" >136</td> \n",
       "        <td id=\"T_2741b982_b21b_11eb_a2ad_0242ac110003row6_col3\" class=\"data row6 col3\" >108</td> \n",
       "        <td id=\"T_2741b982_b21b_11eb_a2ad_0242ac110003row6_col4\" class=\"data row6 col4\" >256</td> \n",
       "        <td id=\"T_2741b982_b21b_11eb_a2ad_0242ac110003row6_col5\" class=\"data row6 col5\" >20</td> \n",
       "        <td id=\"T_2741b982_b21b_11eb_a2ad_0242ac110003row6_col6\" class=\"data row6 col6\" >584</td> \n",
       "        <td id=\"T_2741b982_b21b_11eb_a2ad_0242ac110003row6_col7\" class=\"data row6 col7\" >15</td> \n",
       "        <td id=\"T_2741b982_b21b_11eb_a2ad_0242ac110003row6_col8\" class=\"data row6 col8\" >11</td> \n",
       "        <td id=\"T_2741b982_b21b_11eb_a2ad_0242ac110003row6_col9\" class=\"data row6 col9\" >57</td> \n",
       "        <td id=\"T_2741b982_b21b_11eb_a2ad_0242ac110003row6_col10\" class=\"data row6 col10\" >9</td> \n",
       "        <td id=\"T_2741b982_b21b_11eb_a2ad_0242ac110003row6_col11\" class=\"data row6 col11\" >43</td> \n",
       "        <td id=\"T_2741b982_b21b_11eb_a2ad_0242ac110003row6_col12\" class=\"data row6 col12\" >3</td> \n",
       "        <td id=\"T_2741b982_b21b_11eb_a2ad_0242ac110003row6_col13\" class=\"data row6 col13\" >9</td> \n",
       "        <td id=\"T_2741b982_b21b_11eb_a2ad_0242ac110003row6_col14\" class=\"data row6 col14\" >9</td> \n",
       "        <td id=\"T_2741b982_b21b_11eb_a2ad_0242ac110003row6_col15\" class=\"data row6 col15\" >1</td> \n",
       "        <td id=\"T_2741b982_b21b_11eb_a2ad_0242ac110003row6_col16\" class=\"data row6 col16\" >6</td> \n",
       "        <td id=\"T_2741b982_b21b_11eb_a2ad_0242ac110003row6_col17\" class=\"data row6 col17\" >0</td> \n",
       "        <td id=\"T_2741b982_b21b_11eb_a2ad_0242ac110003row6_col18\" class=\"data row6 col18\" >0</td> \n",
       "        <td id=\"T_2741b982_b21b_11eb_a2ad_0242ac110003row6_col19\" class=\"data row6 col19\" >9</td> \n",
       "    </tr>    <tr> \n",
       "        <th id=\"T_2741b982_b21b_11eb_a2ad_0242ac110003level0_row7\" class=\"row_heading level0 row7\" >scikit-learn</th> \n",
       "        <td id=\"T_2741b982_b21b_11eb_a2ad_0242ac110003row7_col0\" class=\"data row7 col0\" >188</td> \n",
       "        <td id=\"T_2741b982_b21b_11eb_a2ad_0242ac110003row7_col1\" class=\"data row7 col1\" >235</td> \n",
       "        <td id=\"T_2741b982_b21b_11eb_a2ad_0242ac110003row7_col2\" class=\"data row7 col2\" >16</td> \n",
       "        <td id=\"T_2741b982_b21b_11eb_a2ad_0242ac110003row7_col3\" class=\"data row7 col3\" >24</td> \n",
       "        <td id=\"T_2741b982_b21b_11eb_a2ad_0242ac110003row7_col4\" class=\"data row7 col4\" >34</td> \n",
       "        <td id=\"T_2741b982_b21b_11eb_a2ad_0242ac110003row7_col5\" class=\"data row7 col5\" >47</td> \n",
       "        <td id=\"T_2741b982_b21b_11eb_a2ad_0242ac110003row7_col6\" class=\"data row7 col6\" >15</td> \n",
       "        <td id=\"T_2741b982_b21b_11eb_a2ad_0242ac110003row7_col7\" class=\"data row7 col7\" >540</td> \n",
       "        <td id=\"T_2741b982_b21b_11eb_a2ad_0242ac110003row7_col8\" class=\"data row7 col8\" >12</td> \n",
       "        <td id=\"T_2741b982_b21b_11eb_a2ad_0242ac110003row7_col9\" class=\"data row7 col9\" >0</td> \n",
       "        <td id=\"T_2741b982_b21b_11eb_a2ad_0242ac110003row7_col10\" class=\"data row7 col10\" >12</td> \n",
       "        <td id=\"T_2741b982_b21b_11eb_a2ad_0242ac110003row7_col11\" class=\"data row7 col11\" >2</td> \n",
       "        <td id=\"T_2741b982_b21b_11eb_a2ad_0242ac110003row7_col12\" class=\"data row7 col12\" >37</td> \n",
       "        <td id=\"T_2741b982_b21b_11eb_a2ad_0242ac110003row7_col13\" class=\"data row7 col13\" >37</td> \n",
       "        <td id=\"T_2741b982_b21b_11eb_a2ad_0242ac110003row7_col14\" class=\"data row7 col14\" >9</td> \n",
       "        <td id=\"T_2741b982_b21b_11eb_a2ad_0242ac110003row7_col15\" class=\"data row7 col15\" >1</td> \n",
       "        <td id=\"T_2741b982_b21b_11eb_a2ad_0242ac110003row7_col16\" class=\"data row7 col16\" >12</td> \n",
       "        <td id=\"T_2741b982_b21b_11eb_a2ad_0242ac110003row7_col17\" class=\"data row7 col17\" >24</td> \n",
       "        <td id=\"T_2741b982_b21b_11eb_a2ad_0242ac110003row7_col18\" class=\"data row7 col18\" >6</td> \n",
       "        <td id=\"T_2741b982_b21b_11eb_a2ad_0242ac110003row7_col19\" class=\"data row7 col19\" >18</td> \n",
       "    </tr>    <tr> \n",
       "        <th id=\"T_2741b982_b21b_11eb_a2ad_0242ac110003level0_row8\" class=\"row_heading level0 row8\" >nlp</th> \n",
       "        <td id=\"T_2741b982_b21b_11eb_a2ad_0242ac110003row8_col0\" class=\"data row8 col0\" >113</td> \n",
       "        <td id=\"T_2741b982_b21b_11eb_a2ad_0242ac110003row8_col1\" class=\"data row8 col1\" >71</td> \n",
       "        <td id=\"T_2741b982_b21b_11eb_a2ad_0242ac110003row8_col2\" class=\"data row8 col2\" >72</td> \n",
       "        <td id=\"T_2741b982_b21b_11eb_a2ad_0242ac110003row8_col3\" class=\"data row8 col3\" >24</td> \n",
       "        <td id=\"T_2741b982_b21b_11eb_a2ad_0242ac110003row8_col4\" class=\"data row8 col4\" >23</td> \n",
       "        <td id=\"T_2741b982_b21b_11eb_a2ad_0242ac110003row8_col5\" class=\"data row8 col5\" >35</td> \n",
       "        <td id=\"T_2741b982_b21b_11eb_a2ad_0242ac110003row8_col6\" class=\"data row8 col6\" >11</td> \n",
       "        <td id=\"T_2741b982_b21b_11eb_a2ad_0242ac110003row8_col7\" class=\"data row8 col7\" >12</td> \n",
       "        <td id=\"T_2741b982_b21b_11eb_a2ad_0242ac110003row8_col8\" class=\"data row8 col8\" >493</td> \n",
       "        <td id=\"T_2741b982_b21b_11eb_a2ad_0242ac110003row8_col9\" class=\"data row8 col9\" >7</td> \n",
       "        <td id=\"T_2741b982_b21b_11eb_a2ad_0242ac110003row8_col10\" class=\"data row8 col10\" >0</td> \n",
       "        <td id=\"T_2741b982_b21b_11eb_a2ad_0242ac110003row8_col11\" class=\"data row8 col11\" >19</td> \n",
       "        <td id=\"T_2741b982_b21b_11eb_a2ad_0242ac110003row8_col12\" class=\"data row8 col12\" >3</td> \n",
       "        <td id=\"T_2741b982_b21b_11eb_a2ad_0242ac110003row8_col13\" class=\"data row8 col13\" >2</td> \n",
       "        <td id=\"T_2741b982_b21b_11eb_a2ad_0242ac110003row8_col14\" class=\"data row8 col14\" >11</td> \n",
       "        <td id=\"T_2741b982_b21b_11eb_a2ad_0242ac110003row8_col15\" class=\"data row8 col15\" >4</td> \n",
       "        <td id=\"T_2741b982_b21b_11eb_a2ad_0242ac110003row8_col16\" class=\"data row8 col16\" >1</td> \n",
       "        <td id=\"T_2741b982_b21b_11eb_a2ad_0242ac110003row8_col17\" class=\"data row8 col17\" >9</td> \n",
       "        <td id=\"T_2741b982_b21b_11eb_a2ad_0242ac110003row8_col18\" class=\"data row8 col18\" >3</td> \n",
       "        <td id=\"T_2741b982_b21b_11eb_a2ad_0242ac110003row8_col19\" class=\"data row8 col19\" >4</td> \n",
       "    </tr>    <tr> \n",
       "        <th id=\"T_2741b982_b21b_11eb_a2ad_0242ac110003level0_row9\" class=\"row_heading level0 row9\" >cnn</th> \n",
       "        <td id=\"T_2741b982_b21b_11eb_a2ad_0242ac110003row9_col0\" class=\"data row9 col0\" >124</td> \n",
       "        <td id=\"T_2741b982_b21b_11eb_a2ad_0242ac110003row9_col1\" class=\"data row9 col1\" >62</td> \n",
       "        <td id=\"T_2741b982_b21b_11eb_a2ad_0242ac110003row9_col2\" class=\"data row9 col2\" >160</td> \n",
       "        <td id=\"T_2741b982_b21b_11eb_a2ad_0242ac110003row9_col3\" class=\"data row9 col3\" >118</td> \n",
       "        <td id=\"T_2741b982_b21b_11eb_a2ad_0242ac110003row9_col4\" class=\"data row9 col4\" >116</td> \n",
       "        <td id=\"T_2741b982_b21b_11eb_a2ad_0242ac110003row9_col5\" class=\"data row9 col5\" >20</td> \n",
       "        <td id=\"T_2741b982_b21b_11eb_a2ad_0242ac110003row9_col6\" class=\"data row9 col6\" >57</td> \n",
       "        <td id=\"T_2741b982_b21b_11eb_a2ad_0242ac110003row9_col7\" class=\"data row9 col7\" >0</td> \n",
       "        <td id=\"T_2741b982_b21b_11eb_a2ad_0242ac110003row9_col8\" class=\"data row9 col8\" >7</td> \n",
       "        <td id=\"T_2741b982_b21b_11eb_a2ad_0242ac110003row9_col9\" class=\"data row9 col9\" >489</td> \n",
       "        <td id=\"T_2741b982_b21b_11eb_a2ad_0242ac110003row9_col10\" class=\"data row9 col10\" >8</td> \n",
       "        <td id=\"T_2741b982_b21b_11eb_a2ad_0242ac110003row9_col11\" class=\"data row9 col11\" >24</td> \n",
       "        <td id=\"T_2741b982_b21b_11eb_a2ad_0242ac110003row9_col12\" class=\"data row9 col12\" >1</td> \n",
       "        <td id=\"T_2741b982_b21b_11eb_a2ad_0242ac110003row9_col13\" class=\"data row9 col13\" >6</td> \n",
       "        <td id=\"T_2741b982_b21b_11eb_a2ad_0242ac110003row9_col14\" class=\"data row9 col14\" >11</td> \n",
       "        <td id=\"T_2741b982_b21b_11eb_a2ad_0242ac110003row9_col15\" class=\"data row9 col15\" >2</td> \n",
       "        <td id=\"T_2741b982_b21b_11eb_a2ad_0242ac110003row9_col16\" class=\"data row9 col16\" >6</td> \n",
       "        <td id=\"T_2741b982_b21b_11eb_a2ad_0242ac110003row9_col17\" class=\"data row9 col17\" >0</td> \n",
       "        <td id=\"T_2741b982_b21b_11eb_a2ad_0242ac110003row9_col18\" class=\"data row9 col18\" >1</td> \n",
       "        <td id=\"T_2741b982_b21b_11eb_a2ad_0242ac110003row9_col19\" class=\"data row9 col19\" >4</td> \n",
       "    </tr>    <tr> \n",
       "        <th id=\"T_2741b982_b21b_11eb_a2ad_0242ac110003level0_row10\" class=\"row_heading level0 row10\" >time-series</th> \n",
       "        <td id=\"T_2741b982_b21b_11eb_a2ad_0242ac110003row10_col0\" class=\"data row10 col0\" >131</td> \n",
       "        <td id=\"T_2741b982_b21b_11eb_a2ad_0242ac110003row10_col1\" class=\"data row10 col1\" >105</td> \n",
       "        <td id=\"T_2741b982_b21b_11eb_a2ad_0242ac110003row10_col2\" class=\"data row10 col2\" >44</td> \n",
       "        <td id=\"T_2741b982_b21b_11eb_a2ad_0242ac110003row10_col3\" class=\"data row10 col3\" >33</td> \n",
       "        <td id=\"T_2741b982_b21b_11eb_a2ad_0242ac110003row10_col4\" class=\"data row10 col4\" >51</td> \n",
       "        <td id=\"T_2741b982_b21b_11eb_a2ad_0242ac110003row10_col5\" class=\"data row10 col5\" >25</td> \n",
       "        <td id=\"T_2741b982_b21b_11eb_a2ad_0242ac110003row10_col6\" class=\"data row10 col6\" >9</td> \n",
       "        <td id=\"T_2741b982_b21b_11eb_a2ad_0242ac110003row10_col7\" class=\"data row10 col7\" >12</td> \n",
       "        <td id=\"T_2741b982_b21b_11eb_a2ad_0242ac110003row10_col8\" class=\"data row10 col8\" >0</td> \n",
       "        <td id=\"T_2741b982_b21b_11eb_a2ad_0242ac110003row10_col9\" class=\"data row10 col9\" >8</td> \n",
       "        <td id=\"T_2741b982_b21b_11eb_a2ad_0242ac110003row10_col10\" class=\"data row10 col10\" >466</td> \n",
       "        <td id=\"T_2741b982_b21b_11eb_a2ad_0242ac110003row10_col11\" class=\"data row10 col11\" >87</td> \n",
       "        <td id=\"T_2741b982_b21b_11eb_a2ad_0242ac110003row10_col12\" class=\"data row10 col12\" >19</td> \n",
       "        <td id=\"T_2741b982_b21b_11eb_a2ad_0242ac110003row10_col13\" class=\"data row10 col13\" >24</td> \n",
       "        <td id=\"T_2741b982_b21b_11eb_a2ad_0242ac110003row10_col14\" class=\"data row10 col14\" >6</td> \n",
       "        <td id=\"T_2741b982_b21b_11eb_a2ad_0242ac110003row10_col15\" class=\"data row10 col15\" >22</td> \n",
       "        <td id=\"T_2741b982_b21b_11eb_a2ad_0242ac110003row10_col16\" class=\"data row10 col16\" >31</td> \n",
       "        <td id=\"T_2741b982_b21b_11eb_a2ad_0242ac110003row10_col17\" class=\"data row10 col17\" >20</td> \n",
       "        <td id=\"T_2741b982_b21b_11eb_a2ad_0242ac110003row10_col18\" class=\"data row10 col18\" >22</td> \n",
       "        <td id=\"T_2741b982_b21b_11eb_a2ad_0242ac110003row10_col19\" class=\"data row10 col19\" >7</td> \n",
       "    </tr>    <tr> \n",
       "        <th id=\"T_2741b982_b21b_11eb_a2ad_0242ac110003level0_row11\" class=\"row_heading level0 row11\" >lstm</th> \n",
       "        <td id=\"T_2741b982_b21b_11eb_a2ad_0242ac110003row11_col0\" class=\"data row11 col0\" >71</td> \n",
       "        <td id=\"T_2741b982_b21b_11eb_a2ad_0242ac110003row11_col1\" class=\"data row11 col1\" >61</td> \n",
       "        <td id=\"T_2741b982_b21b_11eb_a2ad_0242ac110003row11_col2\" class=\"data row11 col2\" >103</td> \n",
       "        <td id=\"T_2741b982_b21b_11eb_a2ad_0242ac110003row11_col3\" class=\"data row11 col3\" >69</td> \n",
       "        <td id=\"T_2741b982_b21b_11eb_a2ad_0242ac110003row11_col4\" class=\"data row11 col4\" >133</td> \n",
       "        <td id=\"T_2741b982_b21b_11eb_a2ad_0242ac110003row11_col5\" class=\"data row11 col5\" >20</td> \n",
       "        <td id=\"T_2741b982_b21b_11eb_a2ad_0242ac110003row11_col6\" class=\"data row11 col6\" >43</td> \n",
       "        <td id=\"T_2741b982_b21b_11eb_a2ad_0242ac110003row11_col7\" class=\"data row11 col7\" >2</td> \n",
       "        <td id=\"T_2741b982_b21b_11eb_a2ad_0242ac110003row11_col8\" class=\"data row11 col8\" >19</td> \n",
       "        <td id=\"T_2741b982_b21b_11eb_a2ad_0242ac110003row11_col9\" class=\"data row11 col9\" >24</td> \n",
       "        <td id=\"T_2741b982_b21b_11eb_a2ad_0242ac110003row11_col10\" class=\"data row11 col10\" >87</td> \n",
       "        <td id=\"T_2741b982_b21b_11eb_a2ad_0242ac110003row11_col11\" class=\"data row11 col11\" >402</td> \n",
       "        <td id=\"T_2741b982_b21b_11eb_a2ad_0242ac110003row11_col12\" class=\"data row11 col12\" >7</td> \n",
       "        <td id=\"T_2741b982_b21b_11eb_a2ad_0242ac110003row11_col13\" class=\"data row11 col13\" >11</td> \n",
       "        <td id=\"T_2741b982_b21b_11eb_a2ad_0242ac110003row11_col14\" class=\"data row11 col14\" >7</td> \n",
       "        <td id=\"T_2741b982_b21b_11eb_a2ad_0242ac110003row11_col15\" class=\"data row11 col15\" >3</td> \n",
       "        <td id=\"T_2741b982_b21b_11eb_a2ad_0242ac110003row11_col16\" class=\"data row11 col16\" >13</td> \n",
       "        <td id=\"T_2741b982_b21b_11eb_a2ad_0242ac110003row11_col17\" class=\"data row11 col17\" >3</td> \n",
       "        <td id=\"T_2741b982_b21b_11eb_a2ad_0242ac110003row11_col18\" class=\"data row11 col18\" >1</td> \n",
       "        <td id=\"T_2741b982_b21b_11eb_a2ad_0242ac110003row11_col19\" class=\"data row11 col19\" >5</td> \n",
       "    </tr>    <tr> \n",
       "        <th id=\"T_2741b982_b21b_11eb_a2ad_0242ac110003level0_row12\" class=\"row_heading level0 row12\" >pandas</th> \n",
       "        <td id=\"T_2741b982_b21b_11eb_a2ad_0242ac110003row12_col0\" class=\"data row12 col0\" >62</td> \n",
       "        <td id=\"T_2741b982_b21b_11eb_a2ad_0242ac110003row12_col1\" class=\"data row12 col1\" >244</td> \n",
       "        <td id=\"T_2741b982_b21b_11eb_a2ad_0242ac110003row12_col2\" class=\"data row12 col2\" >1</td> \n",
       "        <td id=\"T_2741b982_b21b_11eb_a2ad_0242ac110003row12_col3\" class=\"data row12 col3\" >1</td> \n",
       "        <td id=\"T_2741b982_b21b_11eb_a2ad_0242ac110003row12_col4\" class=\"data row12 col4\" >3</td> \n",
       "        <td id=\"T_2741b982_b21b_11eb_a2ad_0242ac110003row12_col5\" class=\"data row12 col5\" >3</td> \n",
       "        <td id=\"T_2741b982_b21b_11eb_a2ad_0242ac110003row12_col6\" class=\"data row12 col6\" >3</td> \n",
       "        <td id=\"T_2741b982_b21b_11eb_a2ad_0242ac110003row12_col7\" class=\"data row12 col7\" >37</td> \n",
       "        <td id=\"T_2741b982_b21b_11eb_a2ad_0242ac110003row12_col8\" class=\"data row12 col8\" >3</td> \n",
       "        <td id=\"T_2741b982_b21b_11eb_a2ad_0242ac110003row12_col9\" class=\"data row12 col9\" >1</td> \n",
       "        <td id=\"T_2741b982_b21b_11eb_a2ad_0242ac110003row12_col10\" class=\"data row12 col10\" >19</td> \n",
       "        <td id=\"T_2741b982_b21b_11eb_a2ad_0242ac110003row12_col11\" class=\"data row12 col11\" >7</td> \n",
       "        <td id=\"T_2741b982_b21b_11eb_a2ad_0242ac110003row12_col12\" class=\"data row12 col12\" >354</td> \n",
       "        <td id=\"T_2741b982_b21b_11eb_a2ad_0242ac110003row12_col13\" class=\"data row12 col13\" >6</td> \n",
       "        <td id=\"T_2741b982_b21b_11eb_a2ad_0242ac110003row12_col14\" class=\"data row12 col14\" >14</td> \n",
       "        <td id=\"T_2741b982_b21b_11eb_a2ad_0242ac110003row12_col15\" class=\"data row12 col15\" >2</td> \n",
       "        <td id=\"T_2741b982_b21b_11eb_a2ad_0242ac110003row12_col16\" class=\"data row12 col16\" >4</td> \n",
       "        <td id=\"T_2741b982_b21b_11eb_a2ad_0242ac110003row12_col17\" class=\"data row12 col17\" >5</td> \n",
       "        <td id=\"T_2741b982_b21b_11eb_a2ad_0242ac110003row12_col18\" class=\"data row12 col18\" >3</td> \n",
       "        <td id=\"T_2741b982_b21b_11eb_a2ad_0242ac110003row12_col19\" class=\"data row12 col19\" >4</td> \n",
       "    </tr>    <tr> \n",
       "        <th id=\"T_2741b982_b21b_11eb_a2ad_0242ac110003level0_row13\" class=\"row_heading level0 row13\" >regression</th> \n",
       "        <td id=\"T_2741b982_b21b_11eb_a2ad_0242ac110003row13_col0\" class=\"data row13 col0\" >119</td> \n",
       "        <td id=\"T_2741b982_b21b_11eb_a2ad_0242ac110003row13_col1\" class=\"data row13 col1\" >59</td> \n",
       "        <td id=\"T_2741b982_b21b_11eb_a2ad_0242ac110003row13_col2\" class=\"data row13 col2\" >21</td> \n",
       "        <td id=\"T_2741b982_b21b_11eb_a2ad_0242ac110003row13_col3\" class=\"data row13 col3\" >42</td> \n",
       "        <td id=\"T_2741b982_b21b_11eb_a2ad_0242ac110003row13_col4\" class=\"data row13 col4\" >31</td> \n",
       "        <td id=\"T_2741b982_b21b_11eb_a2ad_0242ac110003row13_col5\" class=\"data row13 col5\" >34</td> \n",
       "        <td id=\"T_2741b982_b21b_11eb_a2ad_0242ac110003row13_col6\" class=\"data row13 col6\" >9</td> \n",
       "        <td id=\"T_2741b982_b21b_11eb_a2ad_0242ac110003row13_col7\" class=\"data row13 col7\" >37</td> \n",
       "        <td id=\"T_2741b982_b21b_11eb_a2ad_0242ac110003row13_col8\" class=\"data row13 col8\" >2</td> \n",
       "        <td id=\"T_2741b982_b21b_11eb_a2ad_0242ac110003row13_col9\" class=\"data row13 col9\" >6</td> \n",
       "        <td id=\"T_2741b982_b21b_11eb_a2ad_0242ac110003row13_col10\" class=\"data row13 col10\" >24</td> \n",
       "        <td id=\"T_2741b982_b21b_11eb_a2ad_0242ac110003row13_col11\" class=\"data row13 col11\" >11</td> \n",
       "        <td id=\"T_2741b982_b21b_11eb_a2ad_0242ac110003row13_col12\" class=\"data row13 col12\" >6</td> \n",
       "        <td id=\"T_2741b982_b21b_11eb_a2ad_0242ac110003row13_col13\" class=\"data row13 col13\" >347</td> \n",
       "        <td id=\"T_2741b982_b21b_11eb_a2ad_0242ac110003row13_col14\" class=\"data row13 col14\" >6</td> \n",
       "        <td id=\"T_2741b982_b21b_11eb_a2ad_0242ac110003row13_col15\" class=\"data row13 col15\" >10</td> \n",
       "        <td id=\"T_2741b982_b21b_11eb_a2ad_0242ac110003row13_col16\" class=\"data row13 col16\" >28</td> \n",
       "        <td id=\"T_2741b982_b21b_11eb_a2ad_0242ac110003row13_col17\" class=\"data row13 col17\" >2</td> \n",
       "        <td id=\"T_2741b982_b21b_11eb_a2ad_0242ac110003row13_col18\" class=\"data row13 col18\" >16</td> \n",
       "        <td id=\"T_2741b982_b21b_11eb_a2ad_0242ac110003row13_col19\" class=\"data row13 col19\" >8</td> \n",
       "    </tr>    <tr> \n",
       "        <th id=\"T_2741b982_b21b_11eb_a2ad_0242ac110003level0_row14\" class=\"row_heading level0 row14\" >dataset</th> \n",
       "        <td id=\"T_2741b982_b21b_11eb_a2ad_0242ac110003row14_col0\" class=\"data row14 col0\" >99</td> \n",
       "        <td id=\"T_2741b982_b21b_11eb_a2ad_0242ac110003row14_col1\" class=\"data row14 col1\" >53</td> \n",
       "        <td id=\"T_2741b982_b21b_11eb_a2ad_0242ac110003row14_col2\" class=\"data row14 col2\" >32</td> \n",
       "        <td id=\"T_2741b982_b21b_11eb_a2ad_0242ac110003row14_col3\" class=\"data row14 col3\" >20</td> \n",
       "        <td id=\"T_2741b982_b21b_11eb_a2ad_0242ac110003row14_col4\" class=\"data row14 col4\" >13</td> \n",
       "        <td id=\"T_2741b982_b21b_11eb_a2ad_0242ac110003row14_col5\" class=\"data row14 col5\" >28</td> \n",
       "        <td id=\"T_2741b982_b21b_11eb_a2ad_0242ac110003row14_col6\" class=\"data row14 col6\" >9</td> \n",
       "        <td id=\"T_2741b982_b21b_11eb_a2ad_0242ac110003row14_col7\" class=\"data row14 col7\" >9</td> \n",
       "        <td id=\"T_2741b982_b21b_11eb_a2ad_0242ac110003row14_col8\" class=\"data row14 col8\" >11</td> \n",
       "        <td id=\"T_2741b982_b21b_11eb_a2ad_0242ac110003row14_col9\" class=\"data row14 col9\" >11</td> \n",
       "        <td id=\"T_2741b982_b21b_11eb_a2ad_0242ac110003row14_col10\" class=\"data row14 col10\" >6</td> \n",
       "        <td id=\"T_2741b982_b21b_11eb_a2ad_0242ac110003row14_col11\" class=\"data row14 col11\" >7</td> \n",
       "        <td id=\"T_2741b982_b21b_11eb_a2ad_0242ac110003row14_col12\" class=\"data row14 col12\" >14</td> \n",
       "        <td id=\"T_2741b982_b21b_11eb_a2ad_0242ac110003row14_col13\" class=\"data row14 col13\" >6</td> \n",
       "        <td id=\"T_2741b982_b21b_11eb_a2ad_0242ac110003row14_col14\" class=\"data row14 col14\" >340</td> \n",
       "        <td id=\"T_2741b982_b21b_11eb_a2ad_0242ac110003row14_col15\" class=\"data row14 col15\" >6</td> \n",
       "        <td id=\"T_2741b982_b21b_11eb_a2ad_0242ac110003row14_col16\" class=\"data row14 col16\" >7</td> \n",
       "        <td id=\"T_2741b982_b21b_11eb_a2ad_0242ac110003row14_col17\" class=\"data row14 col17\" >5</td> \n",
       "        <td id=\"T_2741b982_b21b_11eb_a2ad_0242ac110003row14_col18\" class=\"data row14 col18\" >17</td> \n",
       "        <td id=\"T_2741b982_b21b_11eb_a2ad_0242ac110003row14_col19\" class=\"data row14 col19\" >12</td> \n",
       "    </tr>    <tr> \n",
       "        <th id=\"T_2741b982_b21b_11eb_a2ad_0242ac110003level0_row15\" class=\"row_heading level0 row15\" >r</th> \n",
       "        <td id=\"T_2741b982_b21b_11eb_a2ad_0242ac110003row15_col0\" class=\"data row15 col0\" >63</td> \n",
       "        <td id=\"T_2741b982_b21b_11eb_a2ad_0242ac110003row15_col1\" class=\"data row15 col1\" >24</td> \n",
       "        <td id=\"T_2741b982_b21b_11eb_a2ad_0242ac110003row15_col2\" class=\"data row15 col2\" >5</td> \n",
       "        <td id=\"T_2741b982_b21b_11eb_a2ad_0242ac110003row15_col3\" class=\"data row15 col3\" >9</td> \n",
       "        <td id=\"T_2741b982_b21b_11eb_a2ad_0242ac110003row15_col4\" class=\"data row15 col4\" >10</td> \n",
       "        <td id=\"T_2741b982_b21b_11eb_a2ad_0242ac110003row15_col5\" class=\"data row15 col5\" >10</td> \n",
       "        <td id=\"T_2741b982_b21b_11eb_a2ad_0242ac110003row15_col6\" class=\"data row15 col6\" >1</td> \n",
       "        <td id=\"T_2741b982_b21b_11eb_a2ad_0242ac110003row15_col7\" class=\"data row15 col7\" >1</td> \n",
       "        <td id=\"T_2741b982_b21b_11eb_a2ad_0242ac110003row15_col8\" class=\"data row15 col8\" >4</td> \n",
       "        <td id=\"T_2741b982_b21b_11eb_a2ad_0242ac110003row15_col9\" class=\"data row15 col9\" >2</td> \n",
       "        <td id=\"T_2741b982_b21b_11eb_a2ad_0242ac110003row15_col10\" class=\"data row15 col10\" >22</td> \n",
       "        <td id=\"T_2741b982_b21b_11eb_a2ad_0242ac110003row15_col11\" class=\"data row15 col11\" >3</td> \n",
       "        <td id=\"T_2741b982_b21b_11eb_a2ad_0242ac110003row15_col12\" class=\"data row15 col12\" >2</td> \n",
       "        <td id=\"T_2741b982_b21b_11eb_a2ad_0242ac110003row15_col13\" class=\"data row15 col13\" >10</td> \n",
       "        <td id=\"T_2741b982_b21b_11eb_a2ad_0242ac110003row15_col14\" class=\"data row15 col14\" >6</td> \n",
       "        <td id=\"T_2741b982_b21b_11eb_a2ad_0242ac110003row15_col15\" class=\"data row15 col15\" >268</td> \n",
       "        <td id=\"T_2741b982_b21b_11eb_a2ad_0242ac110003row15_col16\" class=\"data row15 col16\" >13</td> \n",
       "        <td id=\"T_2741b982_b21b_11eb_a2ad_0242ac110003row15_col17\" class=\"data row15 col17\" >16</td> \n",
       "        <td id=\"T_2741b982_b21b_11eb_a2ad_0242ac110003row15_col18\" class=\"data row15 col18\" >16</td> \n",
       "        <td id=\"T_2741b982_b21b_11eb_a2ad_0242ac110003row15_col19\" class=\"data row15 col19\" >7</td> \n",
       "    </tr>    <tr> \n",
       "        <th id=\"T_2741b982_b21b_11eb_a2ad_0242ac110003level0_row16\" class=\"row_heading level0 row16\" >predictive-modeling</th> \n",
       "        <td id=\"T_2741b982_b21b_11eb_a2ad_0242ac110003row16_col0\" class=\"data row16 col0\" >123</td> \n",
       "        <td id=\"T_2741b982_b21b_11eb_a2ad_0242ac110003row16_col1\" class=\"data row16 col1\" >35</td> \n",
       "        <td id=\"T_2741b982_b21b_11eb_a2ad_0242ac110003row16_col2\" class=\"data row16 col2\" >32</td> \n",
       "        <td id=\"T_2741b982_b21b_11eb_a2ad_0242ac110003row16_col3\" class=\"data row16 col3\" >13</td> \n",
       "        <td id=\"T_2741b982_b21b_11eb_a2ad_0242ac110003row16_col4\" class=\"data row16 col4\" >11</td> \n",
       "        <td id=\"T_2741b982_b21b_11eb_a2ad_0242ac110003row16_col5\" class=\"data row16 col5\" >27</td> \n",
       "        <td id=\"T_2741b982_b21b_11eb_a2ad_0242ac110003row16_col6\" class=\"data row16 col6\" >6</td> \n",
       "        <td id=\"T_2741b982_b21b_11eb_a2ad_0242ac110003row16_col7\" class=\"data row16 col7\" >12</td> \n",
       "        <td id=\"T_2741b982_b21b_11eb_a2ad_0242ac110003row16_col8\" class=\"data row16 col8\" >1</td> \n",
       "        <td id=\"T_2741b982_b21b_11eb_a2ad_0242ac110003row16_col9\" class=\"data row16 col9\" >6</td> \n",
       "        <td id=\"T_2741b982_b21b_11eb_a2ad_0242ac110003row16_col10\" class=\"data row16 col10\" >31</td> \n",
       "        <td id=\"T_2741b982_b21b_11eb_a2ad_0242ac110003row16_col11\" class=\"data row16 col11\" >13</td> \n",
       "        <td id=\"T_2741b982_b21b_11eb_a2ad_0242ac110003row16_col12\" class=\"data row16 col12\" >4</td> \n",
       "        <td id=\"T_2741b982_b21b_11eb_a2ad_0242ac110003row16_col13\" class=\"data row16 col13\" >28</td> \n",
       "        <td id=\"T_2741b982_b21b_11eb_a2ad_0242ac110003row16_col14\" class=\"data row16 col14\" >7</td> \n",
       "        <td id=\"T_2741b982_b21b_11eb_a2ad_0242ac110003row16_col15\" class=\"data row16 col15\" >13</td> \n",
       "        <td id=\"T_2741b982_b21b_11eb_a2ad_0242ac110003row16_col16\" class=\"data row16 col16\" >265</td> \n",
       "        <td id=\"T_2741b982_b21b_11eb_a2ad_0242ac110003row16_col17\" class=\"data row16 col17\" >0</td> \n",
       "        <td id=\"T_2741b982_b21b_11eb_a2ad_0242ac110003row16_col18\" class=\"data row16 col18\" >16</td> \n",
       "        <td id=\"T_2741b982_b21b_11eb_a2ad_0242ac110003row16_col19\" class=\"data row16 col19\" >21</td> \n",
       "    </tr>    <tr> \n",
       "        <th id=\"T_2741b982_b21b_11eb_a2ad_0242ac110003level0_row17\" class=\"row_heading level0 row17\" >clustering</th> \n",
       "        <td id=\"T_2741b982_b21b_11eb_a2ad_0242ac110003row17_col0\" class=\"data row17 col0\" >61</td> \n",
       "        <td id=\"T_2741b982_b21b_11eb_a2ad_0242ac110003row17_col1\" class=\"data row17 col1\" >45</td> \n",
       "        <td id=\"T_2741b982_b21b_11eb_a2ad_0242ac110003row17_col2\" class=\"data row17 col2\" >2</td> \n",
       "        <td id=\"T_2741b982_b21b_11eb_a2ad_0242ac110003row17_col3\" class=\"data row17 col3\" >8</td> \n",
       "        <td id=\"T_2741b982_b21b_11eb_a2ad_0242ac110003row17_col4\" class=\"data row17 col4\" >0</td> \n",
       "        <td id=\"T_2741b982_b21b_11eb_a2ad_0242ac110003row17_col5\" class=\"data row17 col5\" >12</td> \n",
       "        <td id=\"T_2741b982_b21b_11eb_a2ad_0242ac110003row17_col6\" class=\"data row17 col6\" >0</td> \n",
       "        <td id=\"T_2741b982_b21b_11eb_a2ad_0242ac110003row17_col7\" class=\"data row17 col7\" >24</td> \n",
       "        <td id=\"T_2741b982_b21b_11eb_a2ad_0242ac110003row17_col8\" class=\"data row17 col8\" >9</td> \n",
       "        <td id=\"T_2741b982_b21b_11eb_a2ad_0242ac110003row17_col9\" class=\"data row17 col9\" >0</td> \n",
       "        <td id=\"T_2741b982_b21b_11eb_a2ad_0242ac110003row17_col10\" class=\"data row17 col10\" >20</td> \n",
       "        <td id=\"T_2741b982_b21b_11eb_a2ad_0242ac110003row17_col11\" class=\"data row17 col11\" >3</td> \n",
       "        <td id=\"T_2741b982_b21b_11eb_a2ad_0242ac110003row17_col12\" class=\"data row17 col12\" >5</td> \n",
       "        <td id=\"T_2741b982_b21b_11eb_a2ad_0242ac110003row17_col13\" class=\"data row17 col13\" >2</td> \n",
       "        <td id=\"T_2741b982_b21b_11eb_a2ad_0242ac110003row17_col14\" class=\"data row17 col14\" >5</td> \n",
       "        <td id=\"T_2741b982_b21b_11eb_a2ad_0242ac110003row17_col15\" class=\"data row17 col15\" >16</td> \n",
       "        <td id=\"T_2741b982_b21b_11eb_a2ad_0242ac110003row17_col16\" class=\"data row17 col16\" >0</td> \n",
       "        <td id=\"T_2741b982_b21b_11eb_a2ad_0242ac110003row17_col17\" class=\"data row17 col17\" >257</td> \n",
       "        <td id=\"T_2741b982_b21b_11eb_a2ad_0242ac110003row17_col18\" class=\"data row17 col18\" >3</td> \n",
       "        <td id=\"T_2741b982_b21b_11eb_a2ad_0242ac110003row17_col19\" class=\"data row17 col19\" >3</td> \n",
       "    </tr>    <tr> \n",
       "        <th id=\"T_2741b982_b21b_11eb_a2ad_0242ac110003level0_row18\" class=\"row_heading level0 row18\" >statistics</th> \n",
       "        <td id=\"T_2741b982_b21b_11eb_a2ad_0242ac110003row18_col0\" class=\"data row18 col0\" >89</td> \n",
       "        <td id=\"T_2741b982_b21b_11eb_a2ad_0242ac110003row18_col1\" class=\"data row18 col1\" >35</td> \n",
       "        <td id=\"T_2741b982_b21b_11eb_a2ad_0242ac110003row18_col2\" class=\"data row18 col2\" >12</td> \n",
       "        <td id=\"T_2741b982_b21b_11eb_a2ad_0242ac110003row18_col3\" class=\"data row18 col3\" >11</td> \n",
       "        <td id=\"T_2741b982_b21b_11eb_a2ad_0242ac110003row18_col4\" class=\"data row18 col4\" >3</td> \n",
       "        <td id=\"T_2741b982_b21b_11eb_a2ad_0242ac110003row18_col5\" class=\"data row18 col5\" >19</td> \n",
       "        <td id=\"T_2741b982_b21b_11eb_a2ad_0242ac110003row18_col6\" class=\"data row18 col6\" >0</td> \n",
       "        <td id=\"T_2741b982_b21b_11eb_a2ad_0242ac110003row18_col7\" class=\"data row18 col7\" >6</td> \n",
       "        <td id=\"T_2741b982_b21b_11eb_a2ad_0242ac110003row18_col8\" class=\"data row18 col8\" >3</td> \n",
       "        <td id=\"T_2741b982_b21b_11eb_a2ad_0242ac110003row18_col9\" class=\"data row18 col9\" >1</td> \n",
       "        <td id=\"T_2741b982_b21b_11eb_a2ad_0242ac110003row18_col10\" class=\"data row18 col10\" >22</td> \n",
       "        <td id=\"T_2741b982_b21b_11eb_a2ad_0242ac110003row18_col11\" class=\"data row18 col11\" >1</td> \n",
       "        <td id=\"T_2741b982_b21b_11eb_a2ad_0242ac110003row18_col12\" class=\"data row18 col12\" >3</td> \n",
       "        <td id=\"T_2741b982_b21b_11eb_a2ad_0242ac110003row18_col13\" class=\"data row18 col13\" >16</td> \n",
       "        <td id=\"T_2741b982_b21b_11eb_a2ad_0242ac110003row18_col14\" class=\"data row18 col14\" >17</td> \n",
       "        <td id=\"T_2741b982_b21b_11eb_a2ad_0242ac110003row18_col15\" class=\"data row18 col15\" >16</td> \n",
       "        <td id=\"T_2741b982_b21b_11eb_a2ad_0242ac110003row18_col16\" class=\"data row18 col16\" >16</td> \n",
       "        <td id=\"T_2741b982_b21b_11eb_a2ad_0242ac110003row18_col17\" class=\"data row18 col17\" >3</td> \n",
       "        <td id=\"T_2741b982_b21b_11eb_a2ad_0242ac110003row18_col18\" class=\"data row18 col18\" >234</td> \n",
       "        <td id=\"T_2741b982_b21b_11eb_a2ad_0242ac110003row18_col19\" class=\"data row18 col19\" >3</td> \n",
       "    </tr>    <tr> \n",
       "        <th id=\"T_2741b982_b21b_11eb_a2ad_0242ac110003level0_row19\" class=\"row_heading level0 row19\" >machine-learning-model</th> \n",
       "        <td id=\"T_2741b982_b21b_11eb_a2ad_0242ac110003row19_col0\" class=\"data row19 col0\" >139</td> \n",
       "        <td id=\"T_2741b982_b21b_11eb_a2ad_0242ac110003row19_col1\" class=\"data row19 col1\" >37</td> \n",
       "        <td id=\"T_2741b982_b21b_11eb_a2ad_0242ac110003row19_col2\" class=\"data row19 col2\" >19</td> \n",
       "        <td id=\"T_2741b982_b21b_11eb_a2ad_0242ac110003row19_col3\" class=\"data row19 col3\" >10</td> \n",
       "        <td id=\"T_2741b982_b21b_11eb_a2ad_0242ac110003row19_col4\" class=\"data row19 col4\" >17</td> \n",
       "        <td id=\"T_2741b982_b21b_11eb_a2ad_0242ac110003row19_col5\" class=\"data row19 col5\" >21</td> \n",
       "        <td id=\"T_2741b982_b21b_11eb_a2ad_0242ac110003row19_col6\" class=\"data row19 col6\" >9</td> \n",
       "        <td id=\"T_2741b982_b21b_11eb_a2ad_0242ac110003row19_col7\" class=\"data row19 col7\" >18</td> \n",
       "        <td id=\"T_2741b982_b21b_11eb_a2ad_0242ac110003row19_col8\" class=\"data row19 col8\" >4</td> \n",
       "        <td id=\"T_2741b982_b21b_11eb_a2ad_0242ac110003row19_col9\" class=\"data row19 col9\" >4</td> \n",
       "        <td id=\"T_2741b982_b21b_11eb_a2ad_0242ac110003row19_col10\" class=\"data row19 col10\" >7</td> \n",
       "        <td id=\"T_2741b982_b21b_11eb_a2ad_0242ac110003row19_col11\" class=\"data row19 col11\" >5</td> \n",
       "        <td id=\"T_2741b982_b21b_11eb_a2ad_0242ac110003row19_col12\" class=\"data row19 col12\" >4</td> \n",
       "        <td id=\"T_2741b982_b21b_11eb_a2ad_0242ac110003row19_col13\" class=\"data row19 col13\" >8</td> \n",
       "        <td id=\"T_2741b982_b21b_11eb_a2ad_0242ac110003row19_col14\" class=\"data row19 col14\" >12</td> \n",
       "        <td id=\"T_2741b982_b21b_11eb_a2ad_0242ac110003row19_col15\" class=\"data row19 col15\" >7</td> \n",
       "        <td id=\"T_2741b982_b21b_11eb_a2ad_0242ac110003row19_col16\" class=\"data row19 col16\" >21</td> \n",
       "        <td id=\"T_2741b982_b21b_11eb_a2ad_0242ac110003row19_col17\" class=\"data row19 col17\" >3</td> \n",
       "        <td id=\"T_2741b982_b21b_11eb_a2ad_0242ac110003row19_col18\" class=\"data row19 col18\" >3</td> \n",
       "        <td id=\"T_2741b982_b21b_11eb_a2ad_0242ac110003row19_col19\" class=\"data row19 col19\" >224</td> \n",
       "    </tr></tbody> \n",
       "</table> "
      ],
      "text/plain": [
       "<pandas.io.formats.style.Styler at 0x7f7e225596a0>"
      ]
     },
     "execution_count": 43,
     "metadata": {},
     "output_type": "execute_result"
    }
   ],
   "source": [
    "relations_most_used = relations.loc[top_used.index, top_used.index]\n",
    "\n",
    "def style_cells(x):\n",
    "    helper_df = pd.DataFrame('', index=x.index, columns=x.columns)\n",
    "#     helper_df.loc[\"time-series\", \"r\"] = \"background-color: yellow\"\n",
    "#     helper_df.loc[\"r\", \"time-series\"] = \"background-color: yellow\"\n",
    "    for k in range(helper_df.shape[0]):\n",
    "        helper_df.iloc[k,k] = \"color: blue\"\n",
    "    \n",
    "    return helper_df\n",
    "\n",
    "relations_most_used.style.apply(style_cells, axis=None)"
   ]
  },
  {
   "cell_type": "markdown",
   "metadata": {},
   "source": [
    "The blue values are showing the total counts for each single tag. The rest shows the pair counts."
   ]
  },
  {
   "cell_type": "code",
   "execution_count": 49,
   "metadata": {
    "collapsed": false
   },
   "outputs": [
    {
     "data": {
      "text/plain": [
       "<matplotlib.axes._subplots.AxesSubplot at 0x7f7e22c8f7f0>"
      ]
     },
     "execution_count": 49,
     "metadata": {},
     "output_type": "execute_result"
    },
    {
     "data": {
      "image/png": "[encoded data removed]",
      "text/plain": [
       "<matplotlib.figure.Figure at 0x7f7e2248bdd8>"
      ]
     },
     "metadata": {},
     "output_type": "display_data"
    }
   ],
   "source": [
    "for i in range(relations_most_used.shape[0]):\n",
    "    relations_most_used.iloc[i,i] = pd.np.NaN\n",
    "\n",
    "plt.figure(figsize=(12,8))\n",
    "sns.heatmap(relations_most_used, cmap=\"Blues\", annot=False)"
   ]
  },
  {
   "cell_type": "markdown",
   "metadata": {},
   "source": [
    "We can notice that the most used tags are also the most viewed. From the top 10 tags of each, these are the tags in common:\n",
    "1. python\n",
    "2. machine-learning\n",
    "3. deep-learning\n",
    "4. neural-network\n",
    "5. keras\n",
    "6. tensorflow\n",
    "7. classification\n",
    "8. scikit-learn\n",
    "\n",
    "keras, and scikit-learn, are all python libraries, so having them come along quite obvious."
   ]
  },
  {
   "cell_type": "markdown",
   "metadata": {},
   "source": [
    "# Interest in Deep Learning"
   ]
  },
  {
   "cell_type": "markdown",
   "metadata": {},
   "source": [
    "Let's identify the interest in questions related to deep learning across time.\n",
    "```\n",
    "SELECT Id, CreationDate, Tags\n",
    "  FROM posts\n",
    " WHERE PostTypeId = 1;\n",
    "```"
   ]
  },
  {
   "cell_type": "code",
   "execution_count": 51,
   "metadata": {
    "collapsed": false,
    "scrolled": true
   },
   "outputs": [
    {
     "name": "stdout",
     "output_type": "stream",
     "text": [
      "Id,CreationDate,Tags\r",
      "\r\n",
      "\"45416\",\"2019-02-12 00:36:29\",\"<python><keras><tensorflow><cnn><probability>\"\r",
      "\r\n",
      "\"45418\",\"2019-02-12 00:50:39\",\"<neural-network>\"\r",
      "\r\n",
      "\"45422\",\"2019-02-12 04:40:51\",\"<python><ibm-watson><chatbot>\"\r",
      "\r\n",
      "\"45426\",\"2019-02-12 04:51:49\",\"<keras>\"\r",
      "\r\n",
      "\"45427\",\"2019-02-12 05:08:24\",\"<r><predictive-modeling><machine-learning-model><simulation>\"\r",
      "\r\n",
      "\"45428\",\"2019-02-12 05:43:18\",\"<cnn>\"\r",
      "\r\n",
      "\"45430\",\"2019-02-12 06:20:30\",\"<machine-learning><learning>\"\r",
      "\r\n",
      "\"45431\",\"2019-02-12 07:26:56\",\"<machine-learning>\"\r",
      "\r\n",
      "\"45433\",\"2019-02-12 08:56:23\",\"<python><keras><tensorflow><lstm>\"\r",
      "\r\n"
     ]
    }
   ],
   "source": [
    "!head all_questions.csv"
   ]
  },
  {
   "cell_type": "code",
   "execution_count": 69,
   "metadata": {
    "collapsed": false
   },
   "outputs": [],
   "source": [
    "all_questions = pd.read_csv('all_questions.csv', parse_dates=['CreationDate'])"
   ]
  },
  {
   "cell_type": "code",
   "execution_count": 70,
   "metadata": {
    "collapsed": false
   },
   "outputs": [
    {
     "data": {
      "text/html": [
       "<div>\n",
       "<style scoped>\n",
       "    .dataframe tbody tr th:only-of-type {\n",
       "        vertical-align: middle;\n",
       "    }\n",
       "\n",
       "    .dataframe tbody tr th {\n",
       "        vertical-align: top;\n",
       "    }\n",
       "\n",
       "    .dataframe thead th {\n",
       "        text-align: right;\n",
       "    }\n",
       "</style>\n",
       "<table border=\"1\" class=\"dataframe\">\n",
       "  <thead>\n",
       "    <tr style=\"text-align: right;\">\n",
       "      <th></th>\n",
       "      <th>Id</th>\n",
       "      <th>CreationDate</th>\n",
       "      <th>Tags</th>\n",
       "    </tr>\n",
       "  </thead>\n",
       "  <tbody>\n",
       "    <tr>\n",
       "      <th>0</th>\n",
       "      <td>45416</td>\n",
       "      <td>2019-02-12 00:36:29</td>\n",
       "      <td>&lt;python&gt;&lt;keras&gt;&lt;tensorflow&gt;&lt;cnn&gt;&lt;probability&gt;</td>\n",
       "    </tr>\n",
       "    <tr>\n",
       "      <th>1</th>\n",
       "      <td>45418</td>\n",
       "      <td>2019-02-12 00:50:39</td>\n",
       "      <td>&lt;neural-network&gt;</td>\n",
       "    </tr>\n",
       "    <tr>\n",
       "      <th>2</th>\n",
       "      <td>45422</td>\n",
       "      <td>2019-02-12 04:40:51</td>\n",
       "      <td>&lt;python&gt;&lt;ibm-watson&gt;&lt;chatbot&gt;</td>\n",
       "    </tr>\n",
       "    <tr>\n",
       "      <th>3</th>\n",
       "      <td>45426</td>\n",
       "      <td>2019-02-12 04:51:49</td>\n",
       "      <td>&lt;keras&gt;</td>\n",
       "    </tr>\n",
       "    <tr>\n",
       "      <th>4</th>\n",
       "      <td>45427</td>\n",
       "      <td>2019-02-12 05:08:24</td>\n",
       "      <td>&lt;r&gt;&lt;predictive-modeling&gt;&lt;machine-learning-mode...</td>\n",
       "    </tr>\n",
       "  </tbody>\n",
       "</table>\n",
       "</div>"
      ],
      "text/plain": [
       "      Id        CreationDate  \\\n",
       "0  45416 2019-02-12 00:36:29   \n",
       "1  45418 2019-02-12 00:50:39   \n",
       "2  45422 2019-02-12 04:40:51   \n",
       "3  45426 2019-02-12 04:51:49   \n",
       "4  45427 2019-02-12 05:08:24   \n",
       "\n",
       "                                                Tags  \n",
       "0      <python><keras><tensorflow><cnn><probability>  \n",
       "1                                   <neural-network>  \n",
       "2                      <python><ibm-watson><chatbot>  \n",
       "3                                            <keras>  \n",
       "4  <r><predictive-modeling><machine-learning-mode...  "
      ]
     },
     "execution_count": 70,
     "metadata": {},
     "output_type": "execute_result"
    }
   ],
   "source": [
    "all_questions.head()"
   ]
  },
  {
   "cell_type": "code",
   "execution_count": 71,
   "metadata": {
    "collapsed": true
   },
   "outputs": [],
   "source": [
    "all_questions['Tags'] = all_questions['Tags'].str[1:-1].str.split('><')"
   ]
  },
  {
   "cell_type": "markdown",
   "metadata": {},
   "source": [
    "Tags related to deep learning:"
   ]
  },
  {
   "cell_type": "code",
   "execution_count": 77,
   "metadata": {
    "collapsed": true
   },
   "outputs": [],
   "source": [
    "deep_learning_tags = [\"lstm\", \"cnn\", \"scikit-learn\", \"tensorflow\", \"keras\", \"neural-network\", \"deep-learning\"]"
   ]
  },
  {
   "cell_type": "markdown",
   "metadata": {},
   "source": [
    "Conducting analysis:"
   ]
  },
  {
   "cell_type": "code",
   "execution_count": 83,
   "metadata": {
    "collapsed": false
   },
   "outputs": [],
   "source": [
    "def checkDeepLearning(tags_list):\n",
    "    for tag in tags_list:\n",
    "        if tag in deep_learning_tags:\n",
    "            return True\n",
    "    return False\n",
    "\n",
    "all_questions['is_deeplearning'] = all_questions['Tags'].apply(checkDeepLearning)"
   ]
  },
  {
   "cell_type": "code",
   "execution_count": 85,
   "metadata": {
    "collapsed": false
   },
   "outputs": [
    {
     "data": {
      "text/plain": [
       "False    13758\n",
       "True      7818\n",
       "Name: is_deeplearning, dtype: int64"
      ]
     },
     "execution_count": 85,
     "metadata": {},
     "output_type": "execute_result"
    }
   ],
   "source": [
    "all_questions['is_deeplearning'].value_counts()"
   ]
  },
  {
   "cell_type": "markdown",
   "metadata": {},
   "source": [
    "deciding adequate timeframe to track"
   ]
  },
  {
   "cell_type": "code",
   "execution_count": 86,
   "metadata": {
    "collapsed": false
   },
   "outputs": [
    {
     "data": {
      "text/plain": [
       "65   2014-05-13 23:58:30\n",
       "66   2014-05-14 00:11:06\n",
       "67   2014-05-14 01:25:59\n",
       "68   2014-05-14 01:41:23\n",
       "69   2014-05-14 01:57:56\n",
       "Name: CreationDate, dtype: datetime64[ns]"
      ]
     },
     "execution_count": 86,
     "metadata": {},
     "output_type": "execute_result"
    }
   ],
   "source": [
    "all_questions['CreationDate'].sort_values().head()"
   ]
  },
  {
   "cell_type": "code",
   "execution_count": 87,
   "metadata": {
    "collapsed": false
   },
   "outputs": [
    {
     "data": {
      "text/plain": [
       "21324   2020-01-19 03:01:03\n",
       "21323   2020-01-19 02:21:53\n",
       "21322   2020-01-19 00:49:00\n",
       "21321   2020-01-18 23:56:27\n",
       "21320   2020-01-18 21:17:34\n",
       "Name: CreationDate, dtype: datetime64[ns]"
      ]
     },
     "execution_count": 87,
     "metadata": {},
     "output_type": "execute_result"
    }
   ],
   "source": [
    "all_questions['CreationDate'].sort_values(ascending=False).head()"
   ]
  },
  {
   "cell_type": "markdown",
   "metadata": {},
   "source": [
    "Questions we have start from 2014 up to 2020, so we're going to do the tracking on a monthly basis."
   ]
  },
  {
   "cell_type": "code",
   "execution_count": 91,
   "metadata": {
    "collapsed": false
   },
   "outputs": [],
   "source": [
    "all_questions['yyyymm'] = all_questions['CreationDate'].dt.year * 100 + all_questions['CreationDate'].dt.month"
   ]
  },
  {
   "cell_type": "code",
   "execution_count": 107,
   "metadata": {
    "collapsed": false
   },
   "outputs": [],
   "source": [
    "plot_df = all_questions[['is_deeplearning', 'yyyymm']].groupby('yyyymm').count()"
   ]
  },
  {
   "cell_type": "code",
   "execution_count": 116,
   "metadata": {
    "collapsed": false
   },
   "outputs": [],
   "source": [
    "plot_df = plot_df.sort_index().copy()"
   ]
  },
  {
   "cell_type": "code",
   "execution_count": 127,
   "metadata": {
    "collapsed": false
   },
   "outputs": [
    {
     "data": {
      "text/plain": [
       "<matplotlib.text.Text at 0x7f7e487b9780>"
      ]
     },
     "execution_count": 127,
     "metadata": {},
     "output_type": "execute_result"
    },
    {
     "data": {
      "image/png": "[encoded data removed]",
      "text/plain": [
       "<matplotlib.figure.Figure at 0x7f7e487fe240>"
      ]
     },
     "metadata": {},
     "output_type": "display_data"
    }
   ],
   "source": [
    "plt.plot(plot_df, label='DL Questions')\n",
    "plt.legend()\n",
    "plt.xlabel('Months')\n",
    "plt.ylabel('DL Questions')"
   ]
  },
  {
   "cell_type": "markdown",
   "metadata": {},
   "source": [
    "We can see a high rate of deep learning related questions as per the above graph.\n",
    "\n",
    "# Thank you.\n",
    "[ha.hashem@outlook.com](ha.hashem@outlook.com)"
   ]
  }
 ],
 "metadata": {
  "kernelspec": {
   "display_name": "Python 3",
   "language": "python",
   "name": "python3"
  },
  "language_info": {
   "codemirror_mode": {
    "name": "ipython",
    "version": 3
   },
   "file_extension": ".py",
   "mimetype": "text/x-python",
   "name": "python",
   "nbconvert_exporter": "python",
   "pygments_lexer": "ipython3",
   "version": "3.4.3"
  }
 },
 "nbformat": 4,
 "nbformat_minor": 2
}
