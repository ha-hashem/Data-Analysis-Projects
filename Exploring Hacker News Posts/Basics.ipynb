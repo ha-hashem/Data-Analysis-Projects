{
 "cells": [
  {
   "cell_type": "markdown",
   "metadata": {
    "collapsed": true
   },
   "source": [
    "# Hacker News Posts Analysis\n",
    "[Hacker News](https://news.ycombinaator.com/) (or HN) is a site started by the startup incubator [Y Combinator](https://www.ycombinator.com/), where user-subbitted stories (known as \"posts\") are voted and commented upon, similar to reddit.\n",
    "\n",
    "> _Hacker News is extremely popular in thechnology and startup circles, and posts that make it to the top of Hacker News' listings can get hundereds of thousands of visitors as a results._\n",
    "\n",
    "In this analysis, we're going to work with HN submissions data set, and specifically, work with posts that start with either 'Ask HN' or 'Show HN'. \n",
    "\n",
    "'Ask HN' posts are meant to ask the HN community a specific question, while 'Show HN' posts are to show the HN community a project, product, or just generally something interesting.\n",
    "\n",
    "We're comparing 'Ask HN' posts, with 'Show HN' posts, to check the following:\n",
    "1. Which one receives more comments on average.\n",
    "2. If posts created at a certain time receive more comments on average.\n",
    "\n",
    "\n",
    "Data set available [here](https://www.kaggle.com/hacker-news/hacker-news-posts). The data set we're using has been reduced to 20,000 rows by removing all submissions that did not receive any comments, and then randomly sampling from the remaining submissions.\n"
   ]
  },
  {
   "cell_type": "markdown",
   "metadata": {},
   "source": [
    "## Exploring Data\n",
    "We will start by exploring the data set rows using a read method (to read the data set) and a display method (to display a given number of rows in an array)."
   ]
  },
  {
   "cell_type": "markdown",
   "metadata": {},
   "source": [
    "### Adding required code for the analysis:"
   ]
  },
  {
   "cell_type": "code",
   "execution_count": 1,
   "metadata": {
    "collapsed": true
   },
   "outputs": [],
   "source": [
    "#Importing required modules\n",
    "from csv import reader\n",
    "import datetime as dt\n",
    "\n",
    "#Reading data set method\n",
    "#Reads any dataset given, and returns it as a list\n",
    "def readAFile(file='hacker_news.csv'):\n",
    "    openFile = open(file)\n",
    "    readFile = reader(openFile)\n",
    "    lst = list(readFile)\n",
    "    return lst\n",
    "\n",
    "#List display method\n",
    "#Used to display a list in an organized manner at any time\n",
    "def display(lst):\n",
    "    for i in lst:\n",
    "        print(i, end='\\n\\n')"
   ]
  },
  {
   "cell_type": "markdown",
   "metadata": {},
   "source": [
    "### Printing sample data:\n",
    "We will read the data set first, then create a variable to move the header row to it, and finally, display the first 5 rows of the data set."
   ]
  },
  {
   "cell_type": "code",
   "execution_count": 2,
   "metadata": {
    "collapsed": false
   },
   "outputs": [
    {
     "name": "stdout",
     "output_type": "stream",
     "text": [
      "Header:\n",
      "\n",
      "['id', 'title', 'url', 'num_points', 'num_comments', 'author', 'created_at']\n",
      "\n",
      "Sample data:\n",
      "\n",
      "['12224879', 'Interactive Dynamic Video', 'http://www.interactivedynamicvideo.com/', '386', '52', 'ne0phyte', '8/4/2016 11:52']\n",
      "\n",
      "['10975351', 'How to Use Open Source and Shut the Fuck Up at the Same Time', 'http://hueniverse.com/2016/01/26/how-to-use-open-source-and-shut-the-fuck-up-at-the-same-time/', '39', '10', 'josep2', '1/26/2016 19:30']\n",
      "\n",
      "['11964716', \"Florida DJs May Face Felony for April Fools' Water Joke\", 'http://www.thewire.com/entertainment/2013/04/florida-djs-april-fools-water-joke/63798/', '2', '1', 'vezycash', '6/23/2016 22:20']\n",
      "\n",
      "['11919867', 'Technology ventures: From Idea to Enterprise', 'https://www.amazon.com/Technology-Ventures-Enterprise-Thomas-Byers/dp/0073523429', '3', '1', 'hswarna', '6/17/2016 0:01']\n",
      "\n",
      "['10301696', 'Note by Note: The Making of Steinway L1037 (2007)', 'http://www.nytimes.com/2007/11/07/movies/07stein.html?_r=0', '8', '2', 'walterbell', '9/30/2015 4:12']\n",
      "\n"
     ]
    }
   ],
   "source": [
    "#Reading the HN data set\n",
    "hn = readAFile()\n",
    "\n",
    "#moving the header to a separate variable\n",
    "header = hn[0]\n",
    "hn = hn[1:]\n",
    "\n",
    "#printing the header\n",
    "print('Header:\\n')\n",
    "print(header, end='\\n\\n')\n",
    "\n",
    "#pritning sample data\n",
    "print('Sample data:', end='\\n\\n')\n",
    "display(hn[0:5])"
   ]
  },
  {
   "cell_type": "markdown",
   "metadata": {},
   "source": [
    "### Data set columns descriptions:\n",
    "From the header above, and from the data set URL, we conclud the following columns descriptions:\n",
    "\n",
    "- `id`: The unique identifier from Hacker News for the post.\n",
    "- `title`: The title of the post.\n",
    "- `url`: The URL that the posts links to, if it the post has a URL\n",
    "- `num_points`: The number of points the post acquired, calculated as the total number of upvotes minus the total number of downvotes\n",
    "- `num_comments`: The number of comments that were made on the post\n",
    "- `author`: The username of the person who submitted the pos\n",
    "- `created_at`: The date and time at which the post was submitted"
   ]
  },
  {
   "cell_type": "markdown",
   "metadata": {
    "collapsed": true
   },
   "source": [
    "## Preparing Required Data\n",
    "As mentioned above, We're interested in looking at posts that start with 'Ask HN', or 'Show HN'. For this, we'll extract those posts separately to start working on its analysis."
   ]
  },
  {
   "cell_type": "code",
   "execution_count": 3,
   "metadata": {
    "collapsed": false
   },
   "outputs": [
    {
     "name": "stdout",
     "output_type": "stream",
     "text": [
      "Number of Ask HN posts: 1744\n",
      "Number of Show HN posts: 1162\n",
      "Number of Other HN posts: 17194\n"
     ]
    }
   ],
   "source": [
    "#creating lists to have only posts with 'Ask HN', 'Show HN', and other posts, separately.\n",
    "ask_posts = []\n",
    "show_posts = []\n",
    "other_posts = []\n",
    "\n",
    "for post in hn:\n",
    "    title = post[1]\n",
    "    if title.lower().startswith('ask hn'):\n",
    "        ask_posts.append(post)\n",
    "    elif title.lower().startswith('show hn'):\n",
    "        show_posts.append(post)\n",
    "    else:\n",
    "        other_posts.append(post)\n",
    "\n",
    "#print numbers\n",
    "\n",
    "print('Number of Ask HN posts:', len(ask_posts))\n",
    "print('Number of Show HN posts:', len(show_posts))\n",
    "print('Number of Other HN posts:', len(other_posts))\n"
   ]
  },
  {
   "cell_type": "code",
   "execution_count": 4,
   "metadata": {
    "collapsed": false
   },
   "outputs": [
    {
     "name": "stdout",
     "output_type": "stream",
     "text": [
      "['12296411', 'Ask HN: How to improve my personal website?', '', '2', '6', 'ahmedbaracat', '8/16/2016 9:55']\n",
      "\n",
      "['10610020', 'Ask HN: Am I the only one outraged by Twitter shutting down share counts?', '', '28', '29', 'tkfx', '11/22/2015 13:43']\n",
      "\n",
      "['11610310', 'Ask HN: Aby recent changes to CSS that broke mobile?', '', '1', '1', 'polskibus', '5/2/2016 10:14']\n",
      "\n",
      "['12210105', 'Ask HN: Looking for Employee #3 How do I do it?', '', '1', '3', 'sph130', '8/2/2016 14:20']\n",
      "\n",
      "['10394168', 'Ask HN: Someone offered to buy my browser extension from me. What now?', '', '28', '17', 'roykolak', '10/15/2015 16:38']\n",
      "\n"
     ]
    }
   ],
   "source": [
    "#exploring 'Ask HN' posts\n",
    "display(ask_posts[0:5])"
   ]
  },
  {
   "cell_type": "code",
   "execution_count": 5,
   "metadata": {
    "collapsed": false
   },
   "outputs": [
    {
     "name": "stdout",
     "output_type": "stream",
     "text": [
      "['10627194', 'Show HN: Wio Link  ESP8266 Based Web of Things Hardware Development Platform', 'https://iot.seeed.cc', '26', '22', 'kfihihc', '11/25/2015 14:03']\n",
      "\n",
      "['10646440', 'Show HN: Something pointless I made', 'http://dn.ht/picklecat/', '747', '102', 'dhotson', '11/29/2015 22:46']\n",
      "\n",
      "['11590768', 'Show HN: Shanhu.io, a programming playground powered by e8vm', 'https://shanhu.io', '1', '1', 'h8liu', '4/28/2016 18:05']\n",
      "\n",
      "['12178806', 'Show HN: Webscope  Easy way for web developers to communicate with Clients', 'http://webscopeapp.com', '3', '3', 'fastbrick', '7/28/2016 7:11']\n",
      "\n",
      "['10872799', 'Show HN: GeoScreenshot  Easily test Geo-IP based web pages', 'https://www.geoscreenshot.com/', '1', '9', 'kpsychwave', '1/9/2016 20:45']\n",
      "\n"
     ]
    }
   ],
   "source": [
    "#exploring 'Show HN' posts\n",
    "display(show_posts[0:5])"
   ]
  },
  {
   "cell_type": "code",
   "execution_count": 6,
   "metadata": {
    "collapsed": false
   },
   "outputs": [
    {
     "name": "stdout",
     "output_type": "stream",
     "text": [
      "['12224879', 'Interactive Dynamic Video', 'http://www.interactivedynamicvideo.com/', '386', '52', 'ne0phyte', '8/4/2016 11:52']\n",
      "\n",
      "['10975351', 'How to Use Open Source and Shut the Fuck Up at the Same Time', 'http://hueniverse.com/2016/01/26/how-to-use-open-source-and-shut-the-fuck-up-at-the-same-time/', '39', '10', 'josep2', '1/26/2016 19:30']\n",
      "\n",
      "['11964716', \"Florida DJs May Face Felony for April Fools' Water Joke\", 'http://www.thewire.com/entertainment/2013/04/florida-djs-april-fools-water-joke/63798/', '2', '1', 'vezycash', '6/23/2016 22:20']\n",
      "\n",
      "['11919867', 'Technology ventures: From Idea to Enterprise', 'https://www.amazon.com/Technology-Ventures-Enterprise-Thomas-Byers/dp/0073523429', '3', '1', 'hswarna', '6/17/2016 0:01']\n",
      "\n",
      "['10301696', 'Note by Note: The Making of Steinway L1037 (2007)', 'http://www.nytimes.com/2007/11/07/movies/07stein.html?_r=0', '8', '2', 'walterbell', '9/30/2015 4:12']\n",
      "\n"
     ]
    }
   ],
   "source": [
    "#exploring 'Others' posts\n",
    "display(other_posts[0:5])"
   ]
  },
  {
   "cell_type": "markdown",
   "metadata": {},
   "source": [
    "## Analysis"
   ]
  },
  {
   "cell_type": "markdown",
   "metadata": {},
   "source": [
    "### Determining whether 'Ask HN' or 'Show HN' receive more comments:"
   ]
  },
  {
   "cell_type": "code",
   "execution_count": 7,
   "metadata": {
    "collapsed": false
   },
   "outputs": [
    {
     "name": "stdout",
     "output_type": "stream",
     "text": [
      "Average number of comments for 'Ask HN' posts: 14.038417431192661\n",
      "Average number of comments for 'Show HN' posts: 10.31669535283993\n"
     ]
    }
   ],
   "source": [
    "total_ask_comments = 0\n",
    "total_show_comments = 0\n",
    "\n",
    "#Calculating the average of 'Ask HN' posts comments\n",
    "for post in ask_posts:\n",
    "    no_of_comments = int(post[4])\n",
    "    total_ask_comments += no_of_comments\n",
    "\n",
    "avg_ask_comments = total_ask_comments / int(len(ask_posts))\n",
    "print('Average number of comments for \\'Ask HN\\' posts:', avg_ask_comments)\n",
    "\n",
    "#Calcuating the average of 'Show HN' posts comments\n",
    "for post in show_posts:\n",
    "    no_of_comments = int(post[4])\n",
    "    total_show_comments += no_of_comments\n",
    "\n",
    "avg_show_comments = total_show_comments / int(len(show_posts))\n",
    "print('Average number of comments for \\'Show HN\\' posts:', avg_show_comments)"
   ]
  },
  {
   "cell_type": "markdown",
   "metadata": {},
   "source": [
    "From the above, we see that the average numebr of comments for 'Ask HN' posts are higher than the average numebr of comments for 'Show HN' posts. This was obvious, as the name 'Ask HN' states, but it was necessary to conduct this check.\n",
    "\n",
    "Suprisingly, the average number of comments for 'Show HN' posts, are not very low from 'Ask HN' comments. This can show signs of how the HN community are helpful."
   ]
  },
  {
   "cell_type": "markdown",
   "metadata": {},
   "source": [
    "### Determining 'when' posts get more comments\n",
    "To analyze if posts created at a certain time receive more comments on average, we'll concentrate on the 'Ask HN' data set, since it has a lot of comments.\n",
    "\n",
    "For that, we'll do the following:\n",
    "1. Calculate the amount of 'Ask HN' posts created in each hour of the day, along with the number of comments received.\n",
    "2. Calculate the average number of comments 'Ask HN' posts receive by hour created."
   ]
  },
  {
   "cell_type": "code",
   "execution_count": 13,
   "metadata": {
    "collapsed": false
   },
   "outputs": [
    {
     "name": "stdout",
     "output_type": "stream",
     "text": [
      "{'07': 34, '10': 59, '08': 48, '22': 71, '20': 80, '01': 60, '14': 107, '03': 54, '23': 68, '15': 116, '12': 73, '11': 58, '17': 100, '05': 46, '00': 55, '19': 110, '09': 45, '02': 58, '13': 85, '16': 108, '21': 109, '06': 44, '18': 109, '04': 47}\n",
      "{'07': 267, '10': 793, '08': 492, '22': 479, '20': 1722, '01': 683, '14': 1416, '03': 421, '23': 543, '15': 4477, '12': 687, '11': 641, '17': 1146, '05': 464, '00': 447, '19': 1188, '09': 251, '02': 1381, '13': 1253, '16': 1814, '21': 1745, '06': 397, '18': 1439, '04': 337}\n"
     ]
    }
   ],
   "source": [
    "#Caclulate the amount of 'Ask HN' posts created in each hour of the day,\n",
    "#along with the number of comments received.\n",
    "\n",
    "\n",
    "#Creating a separate list, having only the posts' timestamps and number of comments.\n",
    "\n",
    "result_list = []\n",
    "\n",
    "for post in ask_posts:\n",
    "    created_at = post[6]\n",
    "    no_of_comments = int(post[4])\n",
    "    result_list.append([created_at, no_of_comments])\n",
    "\n",
    "\n",
    "#counts_by_hour:\tnumber of 'Ask HN' posts created in each hour of the day\n",
    "#comments_by_hour:\tnumber of comments posted in 'Ask HN' posts at each hour of the day\n",
    "\n",
    "counts_by_hour = {}\n",
    "comments_by_hour = {}\n",
    "\n",
    "for row in result_list:\n",
    "    hour = row[0]\n",
    "    hour = dt.datetime.strptime(hour,'%m/%d/%Y %H:%M')\n",
    "    hour = hour.strftime('%H')\n",
    "    if hour in counts_by_hour:\n",
    "        counts_by_hour[hour] += 1\n",
    "        comments_by_hour[hour] += int(row[1])\n",
    "    else:\n",
    "        counts_by_hour[hour] = 1\n",
    "        comments_by_hour[hour] = int(row[1])\n",
    "\n",
    "#exploring results\n",
    "print(counts_by_hour)\n",
    "print(comments_by_hour)"
   ]
  },
  {
   "cell_type": "code",
   "execution_count": 16,
   "metadata": {
    "collapsed": false
   },
   "outputs": [
    {
     "name": "stdout",
     "output_type": "stream",
     "text": [
      "[['07', 7.852941176470588], ['10', 13.440677966101696], ['08', 10.25], ['22', 6.746478873239437], ['20', 21.525], ['01', 11.383333333333333], ['14', 13.233644859813085], ['03', 7.796296296296297], ['23', 7.985294117647059], ['15', 38.5948275862069], ['12', 9.41095890410959], ['11', 11.051724137931034], ['17', 11.46], ['05', 10.08695652173913], ['00', 8.127272727272727], ['19', 10.8], ['09', 5.5777777777777775], ['02', 23.810344827586206], ['13', 14.741176470588234], ['16', 16.796296296296298], ['21', 16.009174311926607], ['06', 9.022727272727273], ['18', 13.20183486238532], ['04', 7.170212765957447]]\n"
     ]
    }
   ],
   "source": [
    "#Calculate the average number of comments 'Ask HN' posts receive by hour created.\n",
    "\n",
    "#avg_by_hour:\ta list of lists, where each list contains the hour,\n",
    "#\t\t\t\tand the average number of comments per post\n",
    "\n",
    "avg_by_hour = []\n",
    "\n",
    "for hour in counts_by_hour:\n",
    "    avg_by_hour.append([hour, comments_by_hour[hour]/counts_by_hour[hour]])\n",
    "\n",
    "#exploring results\n",
    "print(avg_by_hour)"
   ]
  },
  {
   "cell_type": "markdown",
   "metadata": {
    "collapsed": true
   },
   "source": [
    "The above list is hard to read, so we'll fix this by sorting the list."
   ]
  },
  {
   "cell_type": "code",
   "execution_count": 38,
   "metadata": {
    "collapsed": false
   },
   "outputs": [
    {
     "name": "stdout",
     "output_type": "stream",
     "text": [
      "Top 5 Hours for 'Ask HN' Posts Comments\n",
      "\n",
      "08:00: 38.59 average comments per post\n",
      "19:00: 23.81 average comments per post\n",
      "13:00: 21.52 average comments per post\n",
      "09:00: 16.80 average comments per post\n",
      "14:00: 16.01 average comments per post\n"
     ]
    }
   ],
   "source": [
    "#swapping the hour value with the average value, to prepare it for sorting\n",
    "swap_avg_by_hour = []\n",
    "\n",
    "for item in avg_by_hour:\n",
    "    swap_avg_by_hour.append([item[1],item[0]])\n",
    "    \n",
    "sorted_swap = sorted(swap_avg_by_hour, reverse=True)\n",
    "\n",
    "print('Top 5 Hours for \\'Ask HN\\' Posts Comments',end='\\n\\n')\n",
    "template = \"{time}: {comment:.2f} average comments per post\"\n",
    "delta = dt.timedelta(hours=7) #to convert from Eastern Time in U.S. to GMT+3\n",
    "for item in sorted_swap[0:5]:\n",
    "    hour = item[1]\n",
    "    hour = dt.datetime.strptime(hour, '%H')\n",
    "    hour = hour - delta #converting to GMT+3\n",
    "    hour = dt.datetime.strftime(hour, '%H:%M')\n",
    "    string = template.format(time=hour, comment=item[0])\n",
    "    print(string)"
   ]
  },
  {
   "cell_type": "markdown",
   "metadata": {},
   "source": [
    "From the above, we conclude that posting at 8:00 AM (GMT+3, which is Bahrain's time zone) will give us a higher chance to receive comments from the HN community."
   ]
  },
  {
   "cell_type": "markdown",
   "metadata": {},
   "source": [
    "Todo:\n",
    "- Determine if show or ask posts receive more points on average.\n",
    "- Determine if posts created at a certain time are more likely to receive more points.\n",
    "- Compare your results to the average number of comments and points other posts receive.\n",
    "- Use Dataquest's data science project style guide to format your project."
   ]
  }
 ],
 "metadata": {
  "kernelspec": {
   "display_name": "Python 3",
   "language": "python",
   "name": "python3"
  },
  "language_info": {
   "codemirror_mode": {
    "name": "ipython",
    "version": 3
   },
   "file_extension": ".py",
   "mimetype": "text/x-python",
   "name": "python",
   "nbconvert_exporter": "python",
   "pygments_lexer": "ipython3",
   "version": "3.4.3"
  }
 },
 "nbformat": 4,
 "nbformat_minor": 2
}
